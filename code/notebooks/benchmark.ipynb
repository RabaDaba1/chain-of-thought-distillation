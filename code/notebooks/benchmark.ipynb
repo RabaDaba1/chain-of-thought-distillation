{
 "cells": [
  {
   "cell_type": "code",
   "execution_count": 1,
   "id": "65f9c1c5",
   "metadata": {},
   "outputs": [],
   "source": [
    "import sys\n",
    "from pathlib import Path\n",
    "import gc\n",
    "\n",
    "import torch\n",
    "import pandas as pd\n",
    "from datasets import load_dataset\n",
    "from tqdm import tqdm\n",
    "from transformers import (\n",
    "    AutoModelForCausalLM,\n",
    "    AutoTokenizer,\n",
    "    BitsAndBytesConfig,\n",
    ")\n",
    "\n",
    "sys.path.append(str(Path.cwd().resolve().parent))"
   ]
  },
  {
   "cell_type": "code",
   "execution_count": 2,
   "id": "fa4804b9",
   "metadata": {},
   "outputs": [],
   "source": [
    "from src.config import (\n",
    "    MODELS_DIR,\n",
    "    GSM8K_PATH,\n",
    "    TEACHER_SYSTEM_PROMPT,\n",
    "    TEACHER_USER_PROMPT,\n",
    ")\n",
    "from src.dataset_generator.helpers.answers import (\n",
    "    ParsingError,\n",
    "    parse_gold_answer_number,\n",
    "    parse_teacher_final_answer,\n",
    ")"
   ]
  },
  {
   "cell_type": "code",
   "execution_count": 3,
   "id": "c24fc494",
   "metadata": {},
   "outputs": [],
   "source": [
    "torch.backends.cuda.matmul.allow_tf32 = True\n",
    "torch.backends.cudnn.allow_tf32 = True"
   ]
  },
  {
   "cell_type": "code",
   "execution_count": null,
   "id": "5826b49b",
   "metadata": {},
   "outputs": [],
   "source": [
    "def cleanup_model(model, tokenizer):\n",
    "    if model is not None:\n",
    "        del model\n",
    "    if tokenizer is not None:\n",
    "        del tokenizer\n",
    "    \n",
    "    gc.collect()\n",
    "    \n",
    "    if torch.cuda.is_available():\n",
    "        torch.cuda.empty_cache()\n",
    "        torch.cuda.synchronize()"
   ]
  },
  {
   "cell_type": "code",
   "execution_count": 5,
   "id": "c0172f18",
   "metadata": {},
   "outputs": [],
   "source": [
    "def build_prompt_cot(question: str) -> str:\n",
    "    sys_txt = TEACHER_SYSTEM_PROMPT.strip()\n",
    "    usr_txt = TEACHER_USER_PROMPT.strip().format(question=question.strip())\n",
    "    return f\"{sys_txt}\\n\\n{usr_txt}\\n\"\n",
    "\n",
    "\n",
    "def build_prompt_label_only(question: str) -> str:\n",
    "    prompt = f\"\"\"You are a rigorous and precise math solver. Solve the question and output the result only as:\n",
    "Final Answer: <number>\n",
    "\n",
    "Example 1:\n",
    "Question: A farm has 3 barns with 12 cows each. It sells 7 cows and buys 5 more. How many cows now?\n",
    "Final Answer: 34\n",
    "\n",
    "Example 2:\n",
    "Question: Pens cost $2 and notebooks $5. Alex buys 3 pens and 2 notebooks and pays with $20. How much change?\n",
    "Final Answer: 4\n",
    "\n",
    "Example 3:\n",
    "Question: A tank holds 250 liters. 35% is drained, then 40 liters are added. How many liters now?\n",
    "Final Answer: 202.5\n",
    "\n",
    "Question: {question.strip()}\"\"\"\n",
    "        \n",
    "    return prompt"
   ]
  },
  {
   "cell_type": "code",
   "execution_count": 6,
   "id": "a36b79f2-7aa3-4f3e-9e18-a0716fef4842",
   "metadata": {},
   "outputs": [],
   "source": [
    "def create_quantization_config(bf16: bool) -> BitsAndBytesConfig:\n",
    "    return BitsAndBytesConfig(\n",
    "        load_in_4bit=True,\n",
    "        bnb_4bit_compute_dtype=torch.bfloat16 if bf16 else torch.float16,\n",
    "        bnb_4bit_use_double_quant=True,\n",
    "        bnb_4bit_quant_type=\"nf4\",\n",
    "    )\n",
    "\n",
    "\n",
    "def load_model(model_id: str, load_path: str | None, quant_config: BitsAndBytesConfig):\n",
    "    model = AutoModelForCausalLM.from_pretrained(\n",
    "        load_path if load_path else model_id,\n",
    "        quantization_config=quant_config,\n",
    "        device_map=\"auto\",\n",
    "    )\n",
    "    model.config.use_cache = True\n",
    "    \n",
    "    return model\n",
    "\n",
    "\n",
    "def setup_tokenizer(model_id: str, load_path: str | None):\n",
    "    tokenizer = AutoTokenizer.from_pretrained(\n",
    "        load_path if load_path else model_id, \n",
    "        use_fast=True, \n",
    "        padding_side=\"left\", \n",
    "        truncation_size=\"left\"\n",
    "    )\n",
    "    return tokenizer\n",
    "\n",
    "\n",
    "def load_model_and_tokenizer(model_id: str, bf16: bool, load_path: str | None = None):\n",
    "    quant_config = create_quantization_config(bf16)\n",
    "    model = load_model(model_id, load_path, quant_config)\n",
    "    tokenizer = setup_tokenizer(model_id, load_path)\n",
    "    model.generation_config.pad_token_id = tokenizer.pad_token_id\n",
    "    return model, tokenizer"
   ]
  },
  {
   "cell_type": "code",
   "execution_count": 7,
   "id": "4c487241-9b59-4b6a-9962-cd4e05698aec",
   "metadata": {},
   "outputs": [],
   "source": [
    "def prepare_batch_inputs(questions: list[str], mode: str, tokenizer):\n",
    "    build_prompt = build_prompt_cot if mode == \"cot\" else build_prompt_label_only\n",
    "    prompts = [build_prompt(q) for q in questions]\n",
    "    \n",
    "    return tokenizer(\n",
    "        prompts,\n",
    "        return_tensors=\"pt\",\n",
    "        padding=True,\n",
    "        truncation=True,\n",
    "    ), prompts\n",
    "\n",
    "def extract_responses(generated_tokens, prompts, tokenizer):\n",
    "    full_texts = tokenizer.batch_decode(generated_tokens, skip_special_tokens=True)\n",
    "    return [full[len(prompt):].strip() for prompt, full in zip(prompts, full_texts)]\n",
    "\n",
    "\n",
    "def process_batch(model, tokenizer, questions: list[str], mode: str) -> list[str]:\n",
    "    encoded_inputs, prompts = prepare_batch_inputs(questions, mode, tokenizer)\n",
    "    encoded_inputs = encoded_inputs.to(model.device)\n",
    "    \n",
    "    generated_tokens = model.generate(\n",
    "        **encoded_inputs,\n",
    "        do_sample=False,\n",
    "        use_cache=True,\n",
    "    )\n",
    "    return extract_responses(generated_tokens, prompts, tokenizer)\n",
    "\n",
    "\n",
    "def extract_questions_and_answers(dataset) -> tuple[list[str], list[float | None]]:\n",
    "    questions = dataset[\"question\"]\n",
    "    gold_nums = [parse_gold_answer_number(answer) for answer in dataset[\"answer\"]]\n",
    "    return questions, gold_nums\n",
    "\n",
    "\n",
    "def load_benchmark_dataset(\n",
    "    path: str, split: str, limit: int | None = None\n",
    ") -> tuple[list[str], list[float | None]]:\n",
    "    dataset = load_dataset(path, name=\"main\", split=split)\n",
    "    if limit is not None:\n",
    "        dataset = dataset.select(range(min(limit, len(dataset))))\n",
    "        \n",
    "    return extract_questions_and_answers(dataset)\n",
    "\n",
    "\n",
    "def count_correct_predictions(predictions: list[str], gold_answers: list[float | None]) -> int:\n",
    "    correct_count = 0\n",
    "    \n",
    "    for pred_text, gold_num in zip(predictions, gold_answers):\n",
    "        try:\n",
    "            pred_num = parse_teacher_final_answer(pred_text)\n",
    "        except ParsingError:\n",
    "            pred_num = None\n",
    "        \n",
    "        if (pred_num is not None and \n",
    "            gold_num is not None and \n",
    "            pred_num == gold_num):\n",
    "            correct_count += 1\n",
    "            \n",
    "    return correct_count\n",
    "\n",
    "def evaluate_predictions(predictions: list[str], gold_answers: list[float | None]) -> dict:\n",
    "    correct_count = count_correct_predictions(predictions, gold_answers)\n",
    "    total_count = len(predictions)\n",
    "    \n",
    "    accuracy = correct_count / total_count if total_count > 0 else 0.0\n",
    "    \n",
    "    return {\"accuracy\": accuracy, \"n\": total_count}\n",
    "\n",
    "\n",
    "def generate_predictions(model, tokenizer, questions: list[str], mode: str, batch_size: int) -> list[str]:\n",
    "    outputs = []\n",
    "    model.eval()\n",
    "    \n",
    "    with torch.inference_mode():\n",
    "        for i in tqdm(range(0, len(questions), batch_size), desc=f\"Evaluating {mode}\"):\n",
    "            batch_questions = questions[i:i + batch_size]\n",
    "            batch_outputs = process_batch(model, tokenizer, batch_questions, mode)\n",
    "            outputs.extend(batch_outputs)\n",
    "\n",
    "    return outputs\n",
    "\n",
    "\n",
    "def benchmark(\n",
    "    model, tokenizer, mode: str, batch_size: int, limit: int | None = None\n",
    "):\n",
    "    questions, gold_answers = load_benchmark_dataset(GSM8K_PATH, \"test\", limit)\n",
    "    predictions = generate_predictions(model, tokenizer, questions, mode, batch_size)\n",
    "    df = pd.DataFrame({\n",
    "        \"question\": questions,\n",
    "        \"prediction\": predictions,\n",
    "        \"gold_answer\": gold_answers\n",
    "    })\n",
    "    return evaluate_predictions(predictions, gold_answers), df"
   ]
  },
  {
   "cell_type": "code",
   "execution_count": 8,
   "id": "da7b7af1",
   "metadata": {},
   "outputs": [],
   "source": [
    "MODEL_ID = \"Qwen/Qwen2.5-3B\"\n",
    "SCTOD_PATH = MODELS_DIR / \"qwen2.5_3b_sctod_lora\"\n",
    "LABELONLY_PATH = MODELS_DIR / \"qwen2.5_3b_labelonly_lora\"\n",
    "\n",
    "# RUNS = [\n",
    "#     {\"name\": \"student_sctod\", \"mode\": \"cot\", \"path\": SCTOD_PATH},\n",
    "#     {\"name\": \"student_label_only\", \"mode\": \"label-only\", \"path\": LABELONLY_PATH},\n",
    "#     {\"name\": \"base_cot_prompting\", \"mode\": \"cot\", \"path\": None},\n",
    "#     {\"name\": \"base_label_only\", \"mode\": \"label-only\", \"path\": None},\n",
    "# ]\n",
    "\n",
    "RUNS = [\n",
    "    {\"name\": f\"student_label_only_checkpoint_{i}\", \"mode\": \"label-only\", \"path\": str(path)}\n",
    "    for i, path in enumerate(\n",
    "        sorted(\n",
    "            SCTOD_PATH.glob(\"checkpoint-*\"),\n",
    "            key=lambda path: int(str(path).split(\"checkpoint-\")[-1]),\n",
    "        ),\n",
    "        start=1,\n",
    "    )\n",
    "]"
   ]
  },
  {
   "cell_type": "code",
   "execution_count": null,
   "id": "5ce16627",
   "metadata": {},
   "outputs": [
    {
     "data": {
      "application/vnd.jupyter.widget-view+json": {
       "model_id": "9cfa13d67e90451ba717cd398052a3dc",
       "version_major": 2,
       "version_minor": 0
      },
      "text/plain": [
       "Loading checkpoint shards:   0%|          | 0/2 [00:00<?, ?it/s]"
      ]
     },
     "metadata": {},
     "output_type": "display_data"
    },
    {
     "name": "stdout",
     "output_type": "stream",
     "text": [
      "GPU memory after loading: 2.18 GB\n"
     ]
    },
    {
     "name": "stderr",
     "output_type": "stream",
     "text": [
      "Evaluating label-only: 100%|██████████| 1/1 [00:43<00:00, 43.80s/it]\n",
      "\n"
     ]
    },
    {
     "name": "stdout",
     "output_type": "stream",
     "text": [
      "student_label_only_checkpoint_1 -> accuracy: 0.0000\n",
      "Cleaning up previous model...\n",
      "GPU memory after cleanup: 2.18 GB\n"
     ]
    },
    {
     "data": {
      "application/vnd.jupyter.widget-view+json": {
       "model_id": "922b0270affa42e0abd342dcf079bb92",
       "version_major": 2,
       "version_minor": 0
      },
      "text/plain": [
       "Loading checkpoint shards:   0%|          | 0/2 [00:00<?, ?it/s]"
      ]
     },
     "metadata": {},
     "output_type": "display_data"
    },
    {
     "name": "stdout",
     "output_type": "stream",
     "text": [
      "GPU memory after loading: 3.62 GB\n"
     ]
    },
    {
     "name": "stderr",
     "output_type": "stream",
     "text": [
      "Evaluating label-only: 100%|██████████| 1/1 [00:39<00:00, 39.68s/it]\n",
      "\n"
     ]
    },
    {
     "name": "stdout",
     "output_type": "stream",
     "text": [
      "student_label_only_checkpoint_2 -> accuracy: 0.5000\n",
      "Cleaning up previous model...\n",
      "GPU memory after cleanup: 2.19 GB\n"
     ]
    },
    {
     "data": {
      "application/vnd.jupyter.widget-view+json": {
       "model_id": "9f6c14216ef14cca90491fd3188cbb1c",
       "version_major": 2,
       "version_minor": 0
      },
      "text/plain": [
       "Loading checkpoint shards:   0%|          | 0/2 [00:00<?, ?it/s]"
      ]
     },
     "metadata": {},
     "output_type": "display_data"
    },
    {
     "name": "stdout",
     "output_type": "stream",
     "text": [
      "GPU memory after loading: 3.63 GB\n"
     ]
    },
    {
     "name": "stderr",
     "output_type": "stream",
     "text": [
      "Evaluating label-only: 100%|██████████| 1/1 [00:33<00:00, 33.30s/it]\n",
      "\n"
     ]
    },
    {
     "name": "stdout",
     "output_type": "stream",
     "text": [
      "student_label_only_checkpoint_3 -> accuracy: 0.5000\n",
      "GPU memory after cleanup: 2.19 GB\n",
      "\n",
      "------- Summary -------\n",
      "student_label_only_checkpoint_1: 0.0000\n",
      "student_label_only_checkpoint_2: 0.5000\n",
      "student_label_only_checkpoint_3: 0.5000\n",
      "\n",
      "Combined predictions dataframe shape: (6, 3)\n",
      "Models in dataframe: ['student_label_only_checkpoint_1', 'student_label_only_checkpoint_2', 'student_label_only_checkpoint_3']\n"
     ]
    }
   ],
   "source": [
    "limit = 200\n",
    "batch_size = 16\n",
    "\n",
    "results = []\n",
    "model, tokenizer = None, None\n",
    "all_predictions_dfs = []\n",
    "\n",
    "for run in RUNS[:3]:\n",
    "    name = run[\"name\"]\n",
    "    mode = run[\"mode\"]\n",
    "    path = run[\"path\"]\n",
    "    \n",
    "    if model is not None or tokenizer is not None:\n",
    "        cleanup_model(model, tokenizer)\n",
    "        \n",
    "    model, tokenizer = load_model_and_tokenizer(\n",
    "        model_id=MODEL_ID,\n",
    "        bf16=True,\n",
    "        load_path=path,\n",
    "    )\n",
    "\n",
    "    metrics, df = benchmark(\n",
    "        model,\n",
    "        tokenizer,\n",
    "        mode=mode,\n",
    "        limit=limit,\n",
    "        batch_size=batch_size,\n",
    "    )\n",
    "    print(f\"{name} -> accuracy: {metrics['accuracy']:.4f}\")\n",
    "    results.append((name, metrics))\n",
    "    \n",
    "    df['model'] = name\n",
    "    all_predictions_dfs.append(df)\n",
    "\n",
    "cleanup_model(model, tokenizer)\n",
    "\n",
    "predictions_df = pd.concat(all_predictions_dfs, ignore_index=True)\n",
    "predictions_df = predictions_df.set_index('model')"
   ]
  },
  {
   "cell_type": "code",
   "execution_count": null,
   "id": "9573e0c0",
   "metadata": {},
   "outputs": [],
   "source": [
    "print(\"\\n----------------- Summary -----------------\")\n",
    "for name, m in results:\n",
    "    print(f\"{name:>24}: {m['accuracy']:.4f}\")"
   ]
  }
 ],
 "metadata": {
  "kernelspec": {
   "display_name": "engineering-thesis",
   "language": "python",
   "name": "python3"
  },
  "language_info": {
   "codemirror_mode": {
    "name": "ipython",
    "version": 3
   },
   "file_extension": ".py",
   "mimetype": "text/x-python",
   "name": "python",
   "nbconvert_exporter": "python",
   "pygments_lexer": "ipython3",
   "version": "3.11.13"
  }
 },
 "nbformat": 4,
 "nbformat_minor": 5
}
