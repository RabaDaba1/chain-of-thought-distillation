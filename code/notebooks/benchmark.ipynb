{
 "cells": [
  {
   "cell_type": "code",
   "execution_count": null,
   "id": "65f9c1c5",
   "metadata": {
    "editable": true,
    "slideshow": {
     "slide_type": ""
    },
    "tags": []
   },
   "outputs": [],
   "source": [
    "import gc\n",
    "import sys\n",
    "from pathlib import Path\n",
    "\n",
    "import pandas as pd\n",
    "import torch\n",
    "from datasets import load_dataset\n",
    "from tqdm import tqdm\n",
    "from transformers import (\n",
    "    AutoModelForCausalLM,\n",
    "    AutoTokenizer,\n",
    "    BitsAndBytesConfig,\n",
    ")\n",
    "\n",
    "sys.path.append(str(Path.cwd().resolve().parent))"
   ]
  },
  {
   "cell_type": "code",
   "execution_count": null,
   "id": "fa4804b9",
   "metadata": {},
   "outputs": [],
   "source": [
    "from src.config import (\n",
    "    COT_SYSTEM_PROMPT,\n",
    "    COT_USER_PROMPT,\n",
    "    GSM8K_PATH,\n",
    "    LABEL_ONLY_SYSTEM_PROMPT,\n",
    "    LABEL_ONLY_USER_PROMPT,\n",
    "    MODELS_DIR,\n",
    ")\n",
    "from src.dataset_generator.helpers.answers import (\n",
    "    ParsingError,\n",
    "    parse_gold_answer_number,\n",
    "    parse_teacher_final_answer,\n",
    ")"
   ]
  },
  {
   "cell_type": "code",
   "execution_count": 3,
   "id": "483dfba8-e79f-43f2-83cb-a31e14515e89",
   "metadata": {},
   "outputs": [
    {
     "name": "stdout",
     "output_type": "stream",
     "text": [
      "True\n",
      "1\n",
      "12.9\n"
     ]
    }
   ],
   "source": [
    "print(torch.cuda.is_available())\n",
    "print(torch.cuda.device_count())\n",
    "print(torch.version.cuda)"
   ]
  },
  {
   "cell_type": "code",
   "execution_count": 4,
   "id": "c24fc494",
   "metadata": {},
   "outputs": [],
   "source": [
    "torch.backends.cuda.matmul.allow_tf32 = True\n",
    "torch.backends.cudnn.allow_tf32 = True"
   ]
  },
  {
   "cell_type": "code",
   "execution_count": null,
   "id": "5826b49b",
   "metadata": {},
   "outputs": [],
   "source": [
    "def cleanup_model(model, tokenizer):\n",
    "    if model is not None:\n",
    "        del model\n",
    "    if tokenizer is not None:\n",
    "        del tokenizer\n",
    "\n",
    "    gc.collect()\n",
    "\n",
    "    if torch.cuda.is_available():\n",
    "        torch.cuda.empty_cache()\n",
    "        torch.cuda.synchronize()"
   ]
  },
  {
   "cell_type": "code",
   "execution_count": null,
   "id": "c0172f18",
   "metadata": {},
   "outputs": [],
   "source": [
    "def build_prompt_cot(question: str) -> str:\n",
    "    sys_txt = COT_SYSTEM_PROMPT.strip()\n",
    "    usr_txt = COT_USER_PROMPT.strip().format(question=question.strip())\n",
    "    return f\"{sys_txt}\\n\\n{usr_txt}\\n\"\n",
    "\n",
    "\n",
    "def build_prompt_label_only(question: str) -> str:\n",
    "    sys_txt = LABEL_ONLY_SYSTEM_PROMPT.strip()\n",
    "    usr_txt = LABEL_ONLY_USER_PROMPT.strip().format(question=question.strip())\n",
    "    return f\"{sys_txt}\\n\\n{usr_txt}\\n\""
   ]
  },
  {
   "cell_type": "code",
   "execution_count": null,
   "id": "a36b79f2-7aa3-4f3e-9e18-a0716fef4842",
   "metadata": {},
   "outputs": [],
   "source": [
    "def create_quantization_config(bf16: bool) -> BitsAndBytesConfig:\n",
    "    return BitsAndBytesConfig(\n",
    "        load_in_4bit=True,\n",
    "        bnb_4bit_compute_dtype=torch.bfloat16 if bf16 else torch.float16,\n",
    "        bnb_4bit_use_double_quant=True,\n",
    "        bnb_4bit_quant_type=\"nf4\",\n",
    "    )\n",
    "\n",
    "\n",
    "def load_model(model_id: str, load_path: str | None, quant_config: BitsAndBytesConfig):\n",
    "    model = AutoModelForCausalLM.from_pretrained(\n",
    "        load_path if load_path else model_id,\n",
    "        quantization_config=quant_config,\n",
    "        device_map=\"auto\",\n",
    "    )\n",
    "    model.config.use_cache = True\n",
    "\n",
    "    return model\n",
    "\n",
    "\n",
    "def setup_tokenizer(model_id: str, load_path: str | None):\n",
    "    tokenizer = AutoTokenizer.from_pretrained(\n",
    "        load_path if load_path else model_id,\n",
    "        use_fast=True,\n",
    "        padding_side=\"left\",\n",
    "        truncation_side=\"left\",\n",
    "    )\n",
    "    return tokenizer\n",
    "\n",
    "\n",
    "def load_model_and_tokenizer(model_id: str, bf16: bool, load_path: str | None = None):\n",
    "    quant_config = create_quantization_config(bf16)\n",
    "    model = load_model(model_id, load_path, quant_config)\n",
    "    tokenizer = setup_tokenizer(model_id, load_path)\n",
    "    model.generation_config.pad_token_id = tokenizer.pad_token_id\n",
    "    return model, tokenizer"
   ]
  },
  {
   "cell_type": "code",
   "execution_count": null,
   "id": "4c487241-9b59-4b6a-9962-cd4e05698aec",
   "metadata": {},
   "outputs": [],
   "source": [
    "def prepare_batch_inputs(questions: list[str], mode: str, tokenizer):\n",
    "    build_prompt = build_prompt_cot if mode == \"cot\" else build_prompt_label_only\n",
    "    prompts = [build_prompt(q) for q in questions]\n",
    "\n",
    "    return tokenizer(\n",
    "        prompts,\n",
    "        return_tensors=\"pt\",\n",
    "        padding=True,\n",
    "        truncation=True,\n",
    "    ), prompts\n",
    "\n",
    "\n",
    "def extract_responses(generated_tokens, prompts, tokenizer):\n",
    "    full_texts = tokenizer.batch_decode(generated_tokens, skip_special_tokens=True)\n",
    "    return [full[len(prompt) :].strip() for prompt, full in zip(prompts, full_texts)]\n",
    "\n",
    "\n",
    "def process_batch(model, tokenizer, questions: list[str], mode: str) -> list[str]:\n",
    "    encoded_inputs, prompts = prepare_batch_inputs(questions, mode, tokenizer)\n",
    "    encoded_inputs = encoded_inputs.to(model.device)\n",
    "\n",
    "    generated_tokens = model.generate(\n",
    "        **encoded_inputs, do_sample=False, use_cache=True, max_new_tokens=1024\n",
    "    )\n",
    "    responses = extract_responses(generated_tokens, prompts, tokenizer)\n",
    "    generated_tokens = generated_tokens.cpu()\n",
    "    encoded_inputs = encoded_inputs.to(\"cpu\")\n",
    "    del encoded_inputs, generated_tokens\n",
    "    return responses\n",
    "\n",
    "\n",
    "def extract_questions_and_answers(dataset) -> tuple[list[str], list[float | None]]:\n",
    "    questions = dataset[\"question\"]\n",
    "    gold_nums = [parse_gold_answer_number(answer) for answer in dataset[\"answer\"]]\n",
    "    return questions, gold_nums\n",
    "\n",
    "\n",
    "def load_benchmark_dataset(\n",
    "    path: str, split: str, limit: int | None = None\n",
    ") -> tuple[list[str], list[float | None]]:\n",
    "    dataset = load_dataset(path, name=\"main\", split=split)\n",
    "    if limit is not None:\n",
    "        dataset = dataset.select(range(min(limit, len(dataset))))\n",
    "\n",
    "    return extract_questions_and_answers(dataset)\n",
    "\n",
    "\n",
    "def count_correct_predictions(\n",
    "    predictions: list[str], gold_answers: list[float | None]\n",
    ") -> int:\n",
    "    correct_count = 0\n",
    "\n",
    "    for pred_text, gold_num in zip(predictions, gold_answers):\n",
    "        try:\n",
    "            pred_num = parse_teacher_final_answer(pred_text)\n",
    "        except ParsingError:\n",
    "            pred_num = None\n",
    "\n",
    "        if pred_num is not None and gold_num is not None and pred_num == gold_num:\n",
    "            correct_count += 1\n",
    "\n",
    "    return correct_count\n",
    "\n",
    "\n",
    "def evaluate_predictions(\n",
    "    predictions: list[str], gold_answers: list[float | None]\n",
    ") -> dict:\n",
    "    correct_count = count_correct_predictions(predictions, gold_answers)\n",
    "    total_count = len(predictions)\n",
    "\n",
    "    accuracy = correct_count / total_count if total_count > 0 else 0.0\n",
    "\n",
    "    return {\"accuracy\": accuracy, \"n\": total_count}\n",
    "\n",
    "\n",
    "def generate_predictions(\n",
    "    model, tokenizer, questions: list[str], mode: str, batch_size: int\n",
    ") -> list[str]:\n",
    "    outputs = []\n",
    "    model.eval()\n",
    "\n",
    "    with torch.inference_mode():\n",
    "        for i in tqdm(range(0, len(questions), batch_size), desc=f\"Evaluating {mode}\"):\n",
    "            batch_questions = questions[i : i + batch_size]\n",
    "            batch_outputs = process_batch(model, tokenizer, batch_questions, mode)\n",
    "            outputs.extend(batch_outputs)\n",
    "\n",
    "    return outputs\n",
    "\n",
    "\n",
    "def benchmark(model, tokenizer, mode: str, batch_size: int, limit: int | None = None):\n",
    "    questions, gold_answers = load_benchmark_dataset(GSM8K_PATH, \"test\", limit)\n",
    "    predictions = generate_predictions(model, tokenizer, questions, mode, batch_size)\n",
    "    df = pd.DataFrame(\n",
    "        {\"question\": questions, \"prediction\": predictions, \"gold_answer\": gold_answers}\n",
    "    )\n",
    "    return evaluate_predictions(predictions, gold_answers), df"
   ]
  },
  {
   "cell_type": "code",
   "execution_count": null,
   "id": "da7b7af1",
   "metadata": {
    "editable": true,
    "slideshow": {
     "slide_type": ""
    },
    "tags": []
   },
   "outputs": [],
   "source": [
    "MODEL_ID = \"Qwen/Qwen2.5-3B\"\n",
    "SCTOD_PATH = MODELS_DIR / \"qwen2.5_3b_sctod_lora\"\n",
    "LABELONLY_PATH = MODELS_DIR / \"qwen2.5_3b_labelonly_lora\"\n",
    "\n",
    "# RUNS = [\n",
    "#     {\"name\": \"student_sctod\", \"mode\": \"cot\", \"path\": SCTOD_PATH},\n",
    "#     {\"name\": \"student_label_only\", \"mode\": \"label-only\", \"path\": LABELONLY_PATH},\n",
    "#     {\"name\": \"base_cot_prompting\", \"mode\": \"cot\", \"path\": None},\n",
    "#     {\"name\": \"base_label_only\", \"mode\": \"label-only\", \"path\": None},\n",
    "# ]\n",
    "\n",
    "RUNS = [\n",
    "    *[\n",
    "        {\n",
    "            \"name\": f\"student_label_only_checkpoint_{i}\",\n",
    "            \"mode\": \"label-only\",\n",
    "            \"path\": str(path),\n",
    "        }\n",
    "        for i, path in enumerate(\n",
    "            sorted(\n",
    "                LABELONLY_PATH.glob(\"checkpoint-*\"),\n",
    "                key=lambda path: int(str(path).split(\"checkpoint-\")[-1]),\n",
    "            ),\n",
    "            start=1,\n",
    "        )\n",
    "    ],\n",
    "    *[\n",
    "        {\"name\": f\"student_sctod_checkpoint_{i}\", \"mode\": \"cot\", \"path\": str(path)}\n",
    "        for i, path in enumerate(\n",
    "            sorted(\n",
    "                SCTOD_PATH.glob(\"checkpoint-*\"),\n",
    "                key=lambda path: int(str(path).split(\"checkpoint-\")[-1]),\n",
    "            ),\n",
    "            start=1,\n",
    "        )\n",
    "    ],\n",
    "    {\"name\": \"base_cot_prompting\", \"mode\": \"cot\", \"path\": None},\n",
    "    {\"name\": \"base_label_only\", \"mode\": \"label-only\", \"path\": None},\n",
    "]"
   ]
  },
  {
   "cell_type": "code",
   "execution_count": 10,
   "id": "2e9865ac-da15-4206-a3bb-8c11807a657e",
   "metadata": {},
   "outputs": [
    {
     "data": {
      "text/plain": [
       "[{'name': 'student_label_only_checkpoint_1',\n",
       "  'mode': 'label-only',\n",
       "  'path': '/workspace/chain-of-thought-distillation/code/artifacts/models/qwen2.5_3b_labelonly_lora/checkpoint-50'},\n",
       " {'name': 'student_label_only_checkpoint_2',\n",
       "  'mode': 'label-only',\n",
       "  'path': '/workspace/chain-of-thought-distillation/code/artifacts/models/qwen2.5_3b_labelonly_lora/checkpoint-100'},\n",
       " {'name': 'student_label_only_checkpoint_3',\n",
       "  'mode': 'label-only',\n",
       "  'path': '/workspace/chain-of-thought-distillation/code/artifacts/models/qwen2.5_3b_labelonly_lora/checkpoint-150'},\n",
       " {'name': 'student_label_only_checkpoint_4',\n",
       "  'mode': 'label-only',\n",
       "  'path': '/workspace/chain-of-thought-distillation/code/artifacts/models/qwen2.5_3b_labelonly_lora/checkpoint-200'},\n",
       " {'name': 'student_label_only_checkpoint_5',\n",
       "  'mode': 'label-only',\n",
       "  'path': '/workspace/chain-of-thought-distillation/code/artifacts/models/qwen2.5_3b_labelonly_lora/checkpoint-250'},\n",
       " {'name': 'student_label_only_checkpoint_6',\n",
       "  'mode': 'label-only',\n",
       "  'path': '/workspace/chain-of-thought-distillation/code/artifacts/models/qwen2.5_3b_labelonly_lora/checkpoint-300'},\n",
       " {'name': 'student_label_only_checkpoint_7',\n",
       "  'mode': 'label-only',\n",
       "  'path': '/workspace/chain-of-thought-distillation/code/artifacts/models/qwen2.5_3b_labelonly_lora/checkpoint-350'},\n",
       " {'name': 'student_label_only_checkpoint_8',\n",
       "  'mode': 'label-only',\n",
       "  'path': '/workspace/chain-of-thought-distillation/code/artifacts/models/qwen2.5_3b_labelonly_lora/checkpoint-400'},\n",
       " {'name': 'student_sctod_checkpoint_1',\n",
       "  'mode': 'cot',\n",
       "  'path': '/workspace/chain-of-thought-distillation/code/artifacts/models/qwen2.5_3b_sctod_lora/checkpoint-200'},\n",
       " {'name': 'student_sctod_checkpoint_2',\n",
       "  'mode': 'cot',\n",
       "  'path': '/workspace/chain-of-thought-distillation/code/artifacts/models/qwen2.5_3b_sctod_lora/checkpoint-250'},\n",
       " {'name': 'student_sctod_checkpoint_3',\n",
       "  'mode': 'cot',\n",
       "  'path': '/workspace/chain-of-thought-distillation/code/artifacts/models/qwen2.5_3b_sctod_lora/checkpoint-400'},\n",
       " {'name': 'student_sctod_checkpoint_4',\n",
       "  'mode': 'cot',\n",
       "  'path': '/workspace/chain-of-thought-distillation/code/artifacts/models/qwen2.5_3b_sctod_lora/checkpoint-600'},\n",
       " {'name': 'student_sctod_checkpoint_5',\n",
       "  'mode': 'cot',\n",
       "  'path': '/workspace/chain-of-thought-distillation/code/artifacts/models/qwen2.5_3b_sctod_lora/checkpoint-800'},\n",
       " {'name': 'student_sctod_checkpoint_6',\n",
       "  'mode': 'cot',\n",
       "  'path': '/workspace/chain-of-thought-distillation/code/artifacts/models/qwen2.5_3b_sctod_lora/checkpoint-1000'},\n",
       " {'name': 'student_sctod_checkpoint_7',\n",
       "  'mode': 'cot',\n",
       "  'path': '/workspace/chain-of-thought-distillation/code/artifacts/models/qwen2.5_3b_sctod_lora/checkpoint-1200'},\n",
       " {'name': 'student_sctod_checkpoint_8',\n",
       "  'mode': 'cot',\n",
       "  'path': '/workspace/chain-of-thought-distillation/code/artifacts/models/qwen2.5_3b_sctod_lora/checkpoint-1400'},\n",
       " {'name': 'student_sctod_checkpoint_9',\n",
       "  'mode': 'cot',\n",
       "  'path': '/workspace/chain-of-thought-distillation/code/artifacts/models/qwen2.5_3b_sctod_lora/checkpoint-1600'},\n",
       " {'name': 'student_sctod_checkpoint_10',\n",
       "  'mode': 'cot',\n",
       "  'path': '/workspace/chain-of-thought-distillation/code/artifacts/models/qwen2.5_3b_sctod_lora/checkpoint-1800'},\n",
       " {'name': 'student_sctod_checkpoint_11',\n",
       "  'mode': 'cot',\n",
       "  'path': '/workspace/chain-of-thought-distillation/code/artifacts/models/qwen2.5_3b_sctod_lora/checkpoint-2000'},\n",
       " {'name': 'student_sctod_checkpoint_12',\n",
       "  'mode': 'cot',\n",
       "  'path': '/workspace/chain-of-thought-distillation/code/artifacts/models/qwen2.5_3b_sctod_lora/checkpoint-2200'},\n",
       " {'name': 'student_sctod_checkpoint_13',\n",
       "  'mode': 'cot',\n",
       "  'path': '/workspace/chain-of-thought-distillation/code/artifacts/models/qwen2.5_3b_sctod_lora/checkpoint-2400'},\n",
       " {'name': 'student_sctod_checkpoint_14',\n",
       "  'mode': 'cot',\n",
       "  'path': '/workspace/chain-of-thought-distillation/code/artifacts/models/qwen2.5_3b_sctod_lora/checkpoint-2504'},\n",
       " {'name': 'base_cot_prompting', 'mode': 'cot', 'path': None},\n",
       " {'name': 'base_label_only', 'mode': 'label-only', 'path': None}]"
      ]
     },
     "execution_count": 10,
     "metadata": {},
     "output_type": "execute_result"
    }
   ],
   "source": [
    "RUNS"
   ]
  },
  {
   "cell_type": "code",
   "execution_count": null,
   "id": "5ce16627",
   "metadata": {
    "editable": true,
    "slideshow": {
     "slide_type": ""
    },
    "tags": []
   },
   "outputs": [
    {
     "data": {
      "application/vnd.jupyter.widget-view+json": {
       "model_id": "ad45eee4b3424b1d804c84d4c60ceb46",
       "version_major": 2,
       "version_minor": 0
      },
      "text/plain": [
       "Loading checkpoint shards:   0%|          | 0/2 [00:00<?, ?it/s]"
      ]
     },
     "metadata": {},
     "output_type": "display_data"
    },
    {
     "name": "stderr",
     "output_type": "stream",
     "text": [
      "Evaluating label-only: 100%|██████████| 11/11 [15:33<00:00, 84.86s/it] \n"
     ]
    },
    {
     "name": "stdout",
     "output_type": "stream",
     "text": [
      "student_label_only_checkpoint_1 -> accuracy: 0.1069\n"
     ]
    },
    {
     "data": {
      "application/vnd.jupyter.widget-view+json": {
       "model_id": "ac5474166e624866bff71deed0172a47",
       "version_major": 2,
       "version_minor": 0
      },
      "text/plain": [
       "Loading checkpoint shards:   0%|          | 0/2 [00:00<?, ?it/s]"
      ]
     },
     "metadata": {},
     "output_type": "display_data"
    },
    {
     "name": "stderr",
     "output_type": "stream",
     "text": [
      "Evaluating label-only: 100%|██████████| 11/11 [03:50<00:00, 20.99s/it]\n"
     ]
    },
    {
     "name": "stdout",
     "output_type": "stream",
     "text": [
      "student_label_only_checkpoint_2 -> accuracy: 0.1350\n"
     ]
    },
    {
     "data": {
      "application/vnd.jupyter.widget-view+json": {
       "model_id": "e090aaf98ff7447f9f6c60c6560a043a",
       "version_major": 2,
       "version_minor": 0
      },
      "text/plain": [
       "Loading checkpoint shards:   0%|          | 0/2 [00:00<?, ?it/s]"
      ]
     },
     "metadata": {},
     "output_type": "display_data"
    },
    {
     "name": "stderr",
     "output_type": "stream",
     "text": [
      "Evaluating label-only: 100%|██████████| 11/11 [06:25<00:00, 35.04s/it]\n"
     ]
    },
    {
     "name": "stdout",
     "output_type": "stream",
     "text": [
      "student_label_only_checkpoint_3 -> accuracy: 0.1403\n"
     ]
    },
    {
     "data": {
      "application/vnd.jupyter.widget-view+json": {
       "model_id": "c0d2b55874d245ab91c0786db87b55e0",
       "version_major": 2,
       "version_minor": 0
      },
      "text/plain": [
       "Loading checkpoint shards:   0%|          | 0/2 [00:00<?, ?it/s]"
      ]
     },
     "metadata": {},
     "output_type": "display_data"
    },
    {
     "name": "stderr",
     "output_type": "stream",
     "text": [
      "Evaluating label-only: 100%|██████████| 11/11 [11:03<00:00, 60.28s/it]\n"
     ]
    },
    {
     "name": "stdout",
     "output_type": "stream",
     "text": [
      "student_label_only_checkpoint_4 -> accuracy: 0.1501\n"
     ]
    },
    {
     "data": {
      "application/vnd.jupyter.widget-view+json": {
       "model_id": "6808f852967a47349c8e14de42770dca",
       "version_major": 2,
       "version_minor": 0
      },
      "text/plain": [
       "Loading checkpoint shards:   0%|          | 0/2 [00:00<?, ?it/s]"
      ]
     },
     "metadata": {},
     "output_type": "display_data"
    },
    {
     "name": "stderr",
     "output_type": "stream",
     "text": [
      "Evaluating label-only: 100%|██████████| 11/11 [07:19<00:00, 39.99s/it]\n"
     ]
    },
    {
     "name": "stdout",
     "output_type": "stream",
     "text": [
      "student_label_only_checkpoint_5 -> accuracy: 0.1456\n"
     ]
    },
    {
     "data": {
      "application/vnd.jupyter.widget-view+json": {
       "model_id": "7af1da4437b145918696e32d75d8e1b0",
       "version_major": 2,
       "version_minor": 0
      },
      "text/plain": [
       "Loading checkpoint shards:   0%|          | 0/2 [00:00<?, ?it/s]"
      ]
     },
     "metadata": {},
     "output_type": "display_data"
    },
    {
     "name": "stderr",
     "output_type": "stream",
     "text": [
      "Evaluating label-only: 100%|██████████| 11/11 [06:17<00:00, 34.36s/it]\n"
     ]
    },
    {
     "name": "stdout",
     "output_type": "stream",
     "text": [
      "student_label_only_checkpoint_6 -> accuracy: 0.1501\n"
     ]
    },
    {
     "data": {
      "application/vnd.jupyter.widget-view+json": {
       "model_id": "7ab76c38b466445aa6157423962024f6",
       "version_major": 2,
       "version_minor": 0
      },
      "text/plain": [
       "Loading checkpoint shards:   0%|          | 0/2 [00:00<?, ?it/s]"
      ]
     },
     "metadata": {},
     "output_type": "display_data"
    },
    {
     "name": "stderr",
     "output_type": "stream",
     "text": [
      "Evaluating label-only: 100%|██████████| 11/11 [08:30<00:00, 46.40s/it]\n"
     ]
    },
    {
     "name": "stdout",
     "output_type": "stream",
     "text": [
      "student_label_only_checkpoint_7 -> accuracy: 0.1448\n"
     ]
    },
    {
     "data": {
      "application/vnd.jupyter.widget-view+json": {
       "model_id": "4ab1e550be3340e896512c3a962dba2a",
       "version_major": 2,
       "version_minor": 0
      },
      "text/plain": [
       "Loading checkpoint shards:   0%|          | 0/2 [00:00<?, ?it/s]"
      ]
     },
     "metadata": {},
     "output_type": "display_data"
    },
    {
     "name": "stderr",
     "output_type": "stream",
     "text": [
      "Evaluating label-only: 100%|██████████| 11/11 [06:20<00:00, 34.62s/it]\n"
     ]
    },
    {
     "name": "stdout",
     "output_type": "stream",
     "text": [
      "student_label_only_checkpoint_8 -> accuracy: 0.1501\n"
     ]
    },
    {
     "data": {
      "application/vnd.jupyter.widget-view+json": {
       "model_id": "c41f5cd35ced46788d206175ea85ed6d",
       "version_major": 2,
       "version_minor": 0
      },
      "text/plain": [
       "Loading checkpoint shards:   0%|          | 0/2 [00:00<?, ?it/s]"
      ]
     },
     "metadata": {},
     "output_type": "display_data"
    },
    {
     "name": "stderr",
     "output_type": "stream",
     "text": [
      "Evaluating cot: 100%|██████████| 83/83 [12:26<00:00,  8.99s/it]\n"
     ]
    },
    {
     "name": "stdout",
     "output_type": "stream",
     "text": [
      "student_sctod_checkpoint_1 -> accuracy: 0.7263\n"
     ]
    },
    {
     "data": {
      "application/vnd.jupyter.widget-view+json": {
       "model_id": "5ecb0c99029a4fe3ba8df3bd83202c40",
       "version_major": 2,
       "version_minor": 0
      },
      "text/plain": [
       "Loading checkpoint shards:   0%|          | 0/2 [00:00<?, ?it/s]"
      ]
     },
     "metadata": {},
     "output_type": "display_data"
    },
    {
     "name": "stderr",
     "output_type": "stream",
     "text": [
      "Evaluating cot: 100%|██████████| 83/83 [12:21<00:00,  8.94s/it]\n"
     ]
    },
    {
     "name": "stdout",
     "output_type": "stream",
     "text": [
      "student_sctod_checkpoint_2 -> accuracy: 0.7392\n"
     ]
    },
    {
     "data": {
      "application/vnd.jupyter.widget-view+json": {
       "model_id": "3dcbb5bf81364159a58966ac3b292bcd",
       "version_major": 2,
       "version_minor": 0
      },
      "text/plain": [
       "Loading checkpoint shards:   0%|          | 0/2 [00:00<?, ?it/s]"
      ]
     },
     "metadata": {},
     "output_type": "display_data"
    },
    {
     "name": "stderr",
     "output_type": "stream",
     "text": [
      "Evaluating cot: 100%|██████████| 83/83 [13:15<00:00,  9.59s/it]\n"
     ]
    },
    {
     "name": "stdout",
     "output_type": "stream",
     "text": [
      "student_sctod_checkpoint_3 -> accuracy: 0.7233\n"
     ]
    },
    {
     "data": {
      "application/vnd.jupyter.widget-view+json": {
       "model_id": "1b1e725c06334708b3c29bdb61c1d5e8",
       "version_major": 2,
       "version_minor": 0
      },
      "text/plain": [
       "Loading checkpoint shards:   0%|          | 0/2 [00:00<?, ?it/s]"
      ]
     },
     "metadata": {},
     "output_type": "display_data"
    },
    {
     "name": "stderr",
     "output_type": "stream",
     "text": [
      "Evaluating cot: 100%|██████████| 83/83 [15:17<00:00, 11.05s/it]\n"
     ]
    },
    {
     "name": "stdout",
     "output_type": "stream",
     "text": [
      "student_sctod_checkpoint_4 -> accuracy: 0.7604\n"
     ]
    },
    {
     "data": {
      "application/vnd.jupyter.widget-view+json": {
       "model_id": "b85fd2ab483244b7bf072c5ad6505d68",
       "version_major": 2,
       "version_minor": 0
      },
      "text/plain": [
       "Loading checkpoint shards:   0%|          | 0/2 [00:00<?, ?it/s]"
      ]
     },
     "metadata": {},
     "output_type": "display_data"
    },
    {
     "name": "stderr",
     "output_type": "stream",
     "text": [
      "Evaluating cot: 100%|██████████| 83/83 [14:59<00:00, 10.84s/it]\n"
     ]
    },
    {
     "name": "stdout",
     "output_type": "stream",
     "text": [
      "student_sctod_checkpoint_5 -> accuracy: 0.7551\n"
     ]
    },
    {
     "data": {
      "application/vnd.jupyter.widget-view+json": {
       "model_id": "513f230e4fda43339ce4ca9c8c53efe4",
       "version_major": 2,
       "version_minor": 0
      },
      "text/plain": [
       "Loading checkpoint shards:   0%|          | 0/2 [00:00<?, ?it/s]"
      ]
     },
     "metadata": {},
     "output_type": "display_data"
    },
    {
     "name": "stderr",
     "output_type": "stream",
     "text": [
      "Evaluating cot: 100%|██████████| 83/83 [15:49<00:00, 11.44s/it]\n"
     ]
    },
    {
     "name": "stdout",
     "output_type": "stream",
     "text": [
      "student_sctod_checkpoint_6 -> accuracy: 0.7642\n"
     ]
    },
    {
     "data": {
      "application/vnd.jupyter.widget-view+json": {
       "model_id": "8f7cff1602324d389477a7e1e962a273",
       "version_major": 2,
       "version_minor": 0
      },
      "text/plain": [
       "Loading checkpoint shards:   0%|          | 0/2 [00:00<?, ?it/s]"
      ]
     },
     "metadata": {},
     "output_type": "display_data"
    },
    {
     "name": "stderr",
     "output_type": "stream",
     "text": [
      "Evaluating cot: 100%|██████████| 83/83 [15:22<00:00, 11.12s/it]\n"
     ]
    },
    {
     "name": "stdout",
     "output_type": "stream",
     "text": [
      "student_sctod_checkpoint_7 -> accuracy: 0.7559\n"
     ]
    },
    {
     "data": {
      "application/vnd.jupyter.widget-view+json": {
       "model_id": "0457077230c94d0c88aa762bdf601f86",
       "version_major": 2,
       "version_minor": 0
      },
      "text/plain": [
       "Loading checkpoint shards:   0%|          | 0/2 [00:00<?, ?it/s]"
      ]
     },
     "metadata": {},
     "output_type": "display_data"
    },
    {
     "name": "stderr",
     "output_type": "stream",
     "text": [
      "Evaluating cot: 100%|██████████| 83/83 [15:02<00:00, 10.88s/it]\n"
     ]
    },
    {
     "name": "stdout",
     "output_type": "stream",
     "text": [
      "student_sctod_checkpoint_8 -> accuracy: 0.7854\n"
     ]
    },
    {
     "data": {
      "application/vnd.jupyter.widget-view+json": {
       "model_id": "298d7ce7e9ab4e86b04fefcef3bf1fc7",
       "version_major": 2,
       "version_minor": 0
      },
      "text/plain": [
       "Loading checkpoint shards:   0%|          | 0/2 [00:00<?, ?it/s]"
      ]
     },
     "metadata": {},
     "output_type": "display_data"
    },
    {
     "name": "stderr",
     "output_type": "stream",
     "text": [
      "Evaluating cot: 100%|██████████| 83/83 [14:46<00:00, 10.68s/it]\n"
     ]
    },
    {
     "name": "stdout",
     "output_type": "stream",
     "text": [
      "student_sctod_checkpoint_9 -> accuracy: 0.7582\n"
     ]
    },
    {
     "data": {
      "application/vnd.jupyter.widget-view+json": {
       "model_id": "39d0d60c98b84554b057fedb102565ab",
       "version_major": 2,
       "version_minor": 0
      },
      "text/plain": [
       "Loading checkpoint shards:   0%|          | 0/2 [00:00<?, ?it/s]"
      ]
     },
     "metadata": {},
     "output_type": "display_data"
    },
    {
     "name": "stderr",
     "output_type": "stream",
     "text": [
      "Evaluating cot: 100%|██████████| 83/83 [14:55<00:00, 10.79s/it]\n"
     ]
    },
    {
     "name": "stdout",
     "output_type": "stream",
     "text": [
      "student_sctod_checkpoint_10 -> accuracy: 0.7657\n"
     ]
    },
    {
     "data": {
      "application/vnd.jupyter.widget-view+json": {
       "model_id": "9aec83d93420405a9b5d1e6a3e95abb5",
       "version_major": 2,
       "version_minor": 0
      },
      "text/plain": [
       "Loading checkpoint shards:   0%|          | 0/2 [00:00<?, ?it/s]"
      ]
     },
     "metadata": {},
     "output_type": "display_data"
    },
    {
     "name": "stderr",
     "output_type": "stream",
     "text": [
      "Evaluating cot: 100%|██████████| 83/83 [16:31<00:00, 11.95s/it]\n"
     ]
    },
    {
     "name": "stdout",
     "output_type": "stream",
     "text": [
      "student_sctod_checkpoint_11 -> accuracy: 0.7627\n"
     ]
    },
    {
     "data": {
      "application/vnd.jupyter.widget-view+json": {
       "model_id": "54762a6188ea47b1b06675eeb1561da6",
       "version_major": 2,
       "version_minor": 0
      },
      "text/plain": [
       "Loading checkpoint shards:   0%|          | 0/2 [00:00<?, ?it/s]"
      ]
     },
     "metadata": {},
     "output_type": "display_data"
    },
    {
     "name": "stderr",
     "output_type": "stream",
     "text": [
      "Evaluating cot: 100%|██████████| 83/83 [15:37<00:00, 11.30s/it]\n"
     ]
    },
    {
     "name": "stdout",
     "output_type": "stream",
     "text": [
      "student_sctod_checkpoint_12 -> accuracy: 0.7627\n"
     ]
    },
    {
     "data": {
      "application/vnd.jupyter.widget-view+json": {
       "model_id": "4128c4ccf4d14a989a648dfe62a118ef",
       "version_major": 2,
       "version_minor": 0
      },
      "text/plain": [
       "Loading checkpoint shards:   0%|          | 0/2 [00:00<?, ?it/s]"
      ]
     },
     "metadata": {},
     "output_type": "display_data"
    },
    {
     "name": "stderr",
     "output_type": "stream",
     "text": [
      "Evaluating cot: 100%|██████████| 83/83 [15:15<00:00, 11.03s/it]\n"
     ]
    },
    {
     "name": "stdout",
     "output_type": "stream",
     "text": [
      "student_sctod_checkpoint_13 -> accuracy: 0.7582\n"
     ]
    },
    {
     "data": {
      "application/vnd.jupyter.widget-view+json": {
       "model_id": "e351fb3f70404be88a69185e09d450be",
       "version_major": 2,
       "version_minor": 0
      },
      "text/plain": [
       "Loading checkpoint shards:   0%|          | 0/2 [00:00<?, ?it/s]"
      ]
     },
     "metadata": {},
     "output_type": "display_data"
    },
    {
     "name": "stderr",
     "output_type": "stream",
     "text": [
      "Evaluating cot: 100%|██████████| 83/83 [14:36<00:00, 10.56s/it]\n"
     ]
    },
    {
     "name": "stdout",
     "output_type": "stream",
     "text": [
      "student_sctod_checkpoint_14 -> accuracy: 0.7612\n"
     ]
    },
    {
     "data": {
      "application/vnd.jupyter.widget-view+json": {
       "model_id": "0c8bef213dc84aee85cd76405eeb0d3a",
       "version_major": 2,
       "version_minor": 0
      },
      "text/plain": [
       "Loading checkpoint shards:   0%|          | 0/2 [00:00<?, ?it/s]"
      ]
     },
     "metadata": {},
     "output_type": "display_data"
    },
    {
     "name": "stderr",
     "output_type": "stream",
     "text": [
      "Evaluating cot: 100%|██████████| 83/83 [18:40<00:00, 13.50s/it]\n"
     ]
    },
    {
     "name": "stdout",
     "output_type": "stream",
     "text": [
      "base_cot_prompting -> accuracy: 0.7051\n"
     ]
    },
    {
     "data": {
      "application/vnd.jupyter.widget-view+json": {
       "model_id": "7a07559d1271422bb67e7d66e5c3ee56",
       "version_major": 2,
       "version_minor": 0
      },
      "text/plain": [
       "Loading checkpoint shards:   0%|          | 0/2 [00:00<?, ?it/s]"
      ]
     },
     "metadata": {},
     "output_type": "display_data"
    },
    {
     "name": "stderr",
     "output_type": "stream",
     "text": [
      "Evaluating label-only: 100%|██████████| 11/11 [14:26<00:00, 78.77s/it]\n"
     ]
    },
    {
     "name": "stdout",
     "output_type": "stream",
     "text": [
      "base_label_only -> accuracy: 0.1099\n"
     ]
    }
   ],
   "source": [
    "limit = None\n",
    "results = []\n",
    "model, tokenizer = None, None\n",
    "all_predictions_dfs = []\n",
    "\n",
    "for run in RUNS:\n",
    "    name = run[\"name\"]\n",
    "    mode = run[\"mode\"]\n",
    "    path = run[\"path\"]\n",
    "\n",
    "    batch_size = 128 if mode == \"label-only\" else 16\n",
    "\n",
    "    if model is not None or tokenizer is not None:\n",
    "        cleanup_model(model, tokenizer)\n",
    "\n",
    "    model, tokenizer = load_model_and_tokenizer(\n",
    "        model_id=MODEL_ID,\n",
    "        bf16=True,\n",
    "        load_path=path,\n",
    "    )\n",
    "\n",
    "    metrics, df = benchmark(\n",
    "        model,\n",
    "        tokenizer,\n",
    "        mode=mode,\n",
    "        limit=limit,\n",
    "        batch_size=batch_size,\n",
    "    )\n",
    "    print(f\"{name} -> accuracy: {metrics['accuracy']:.4f}\")\n",
    "    results.append((name, metrics))\n",
    "\n",
    "    df[\"model\"] = name\n",
    "    all_predictions_dfs.append(df)\n",
    "\n",
    "cleanup_model(model, tokenizer)\n",
    "\n",
    "predictions_df = pd.concat(all_predictions_dfs, ignore_index=True)\n",
    "predictions_df = predictions_df.set_index(\"model\")"
   ]
  },
  {
   "cell_type": "code",
   "execution_count": null,
   "id": "9573e0c0",
   "metadata": {
    "editable": true,
    "slideshow": {
     "slide_type": ""
    },
    "tags": []
   },
   "outputs": [
    {
     "name": "stdout",
     "output_type": "stream",
     "text": [
      "\n",
      "----------------- GSM8K Test Set Accuracy -----------------\n",
      "student_label_only_checkpoint_1: 10.69%\n",
      "student_label_only_checkpoint_2: 13.50%\n",
      "student_label_only_checkpoint_3: 14.03%\n",
      "student_label_only_checkpoint_4: 15.01%\n",
      "student_label_only_checkpoint_5: 14.56%\n",
      "student_label_only_checkpoint_6: 15.01%\n",
      "student_label_only_checkpoint_7: 14.48%\n",
      "student_label_only_checkpoint_8: 15.01%\n",
      "    student_sctod_checkpoint_1: 72.63%\n",
      "    student_sctod_checkpoint_2: 73.92%\n",
      "    student_sctod_checkpoint_3: 72.33%\n",
      "    student_sctod_checkpoint_4: 76.04%\n",
      "    student_sctod_checkpoint_5: 75.51%\n",
      "    student_sctod_checkpoint_6: 76.42%\n",
      "    student_sctod_checkpoint_7: 75.59%\n",
      "    student_sctod_checkpoint_8: 78.54%\n",
      "    student_sctod_checkpoint_9: 75.82%\n",
      "   student_sctod_checkpoint_10: 76.57%\n",
      "   student_sctod_checkpoint_11: 76.27%\n",
      "   student_sctod_checkpoint_12: 76.27%\n",
      "   student_sctod_checkpoint_13: 75.82%\n",
      "   student_sctod_checkpoint_14: 76.12%\n",
      "            base_cot_prompting: 70.51%\n",
      "               base_label_only: 10.99%\n"
     ]
    }
   ],
   "source": [
    "print(\"\\n----------------- GSM8K Test Set Accuracy -----------------\")\n",
    "for name, m in results:\n",
    "    print(f\"{name:>30}: {m['accuracy'] * 100:.2f}%\")"
   ]
  },
  {
   "cell_type": "code",
   "execution_count": null,
   "id": "9a84e172-a5ec-4942-a0ea-2502036124a4",
   "metadata": {},
   "outputs": [],
   "source": [
    "predictions_df = predictions_df.reset_index().set_index([\"model\", \"question\"])"
   ]
  },
  {
   "cell_type": "code",
   "execution_count": 14,
   "id": "2c6f5794-a8ec-4de4-a66c-4bc8cb12170f",
   "metadata": {},
   "outputs": [],
   "source": [
    "predictions_df.reset_index().to_csv(\"predictions.csv\")"
   ]
  },
  {
   "cell_type": "code",
   "execution_count": null,
   "id": "4780752d-2a00-4bab-a8a6-3871083ace71",
   "metadata": {},
   "outputs": [],
   "source": []
  },
  {
   "cell_type": "code",
   "execution_count": null,
   "id": "5368036b-2410-4e2a-8c69-d4c27fabfeb5",
   "metadata": {},
   "outputs": [],
   "source": []
  }
 ],
 "metadata": {
  "kernelspec": {
   "display_name": "engineering-thesis",
   "language": "python",
   "name": "python3"
  },
  "language_info": {
   "codemirror_mode": {
    "name": "ipython",
    "version": 3
   },
   "file_extension": ".py",
   "mimetype": "text/x-python",
   "name": "python",
   "nbconvert_exporter": "python",
   "pygments_lexer": "ipython3",
   "version": "3.11.12"
  }
 },
 "nbformat": 4,
 "nbformat_minor": 5
}
