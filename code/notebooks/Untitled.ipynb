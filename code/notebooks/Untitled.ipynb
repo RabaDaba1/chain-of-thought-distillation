{
 "cells": [
  {
   "cell_type": "code",
   "execution_count": 1,
   "id": "bcdd5d2d-031e-4352-99ff-419056928795",
   "metadata": {},
   "outputs": [
    {
     "data": {
      "text/html": [
       "\n",
       "      <iframe id=\"tensorboard-frame-6130da862941998f\" width=\"100%\" height=\"800\" frameborder=\"0\">\n",
       "      </iframe>\n",
       "      <script>\n",
       "        (function() {\n",
       "          const frame = document.getElementById(\"tensorboard-frame-6130da862941998f\");\n",
       "          const url = new URL(\"/\", window.location);\n",
       "          const port = 6006;\n",
       "          if (port) {\n",
       "            url.port = port;\n",
       "          }\n",
       "          frame.src = url;\n",
       "        })();\n",
       "      </script>\n",
       "    "
      ],
      "text/plain": [
       "<IPython.core.display.HTML object>"
      ]
     },
     "metadata": {},
     "output_type": "display_data"
    }
   ],
   "source": [
    "# 1) Load the extension (only once per kernel)\n",
    "%load_ext tensorboard\n",
    "\n",
    "# 2) Point tensorboard to the HF Trainer logs\n",
    "%tensorboard --logdir /workspace/chain-of-thought-distillation/code/artifacts/models/qwen2.5_3b_sctod_lora/runs"
   ]
  },
  {
   "cell_type": "code",
   "execution_count": null,
   "id": "bba9f4b9-d1e0-4d5c-8249-322f444f9fa8",
   "metadata": {},
   "outputs": [],
   "source": []
  }
 ],
 "metadata": {
  "kernelspec": {
   "display_name": "Python 3 (ipykernel)",
   "language": "python",
   "name": "python3"
  },
  "language_info": {
   "codemirror_mode": {
    "name": "ipython",
    "version": 3
   },
   "file_extension": ".py",
   "mimetype": "text/x-python",
   "name": "python",
   "nbconvert_exporter": "python",
   "pygments_lexer": "ipython3",
   "version": "3.11.11"
  }
 },
 "nbformat": 4,
 "nbformat_minor": 5
}
