{
 "cells": [
  {
   "cell_type": "code",
   "execution_count": 1,
   "id": "9293a3af",
   "metadata": {},
   "outputs": [],
   "source": [
    "import random\n",
    "import sys\n",
    "from dataclasses import dataclass\n",
    "from pathlib import Path\n",
    "\n",
    "import torch\n",
    "from accelerate.utils import set_seed\n",
    "from datasets import load_dataset\n",
    "from peft import LoraConfig, PeftModel, get_peft_model, prepare_model_for_kbit_training\n",
    "from torch.nn.utils.rnn import pad_sequence\n",
    "from transformers import (\n",
    "    AutoModelForCausalLM,\n",
    "    AutoTokenizer,\n",
    "    BitsAndBytesConfig,\n",
    "    Trainer,\n",
    "    TrainingArguments,\n",
    ")\n",
    "\n",
    "sys.path.append(str(Path.cwd().resolve().parent))\n",
    "\n",
    "from src.config import (\n",
    "    COT_SYSTEM_PROMPT,\n",
    "    COT_USER_PROMPT,\n",
    "    LABEL_ONLY_SYSTEM_PROMPT,\n",
    "    LABEL_ONLY_USER_PROMPT,\n",
    "    MODELS_DIR,\n",
    "    PROCESSED_DATA_DIR,\n",
    ")"
   ]
  },
  {
   "cell_type": "code",
   "execution_count": 2,
   "id": "6fd3afd1-92bc-4d58-bacb-c01e48780529",
   "metadata": {},
   "outputs": [
    {
     "name": "stdout",
     "output_type": "stream",
     "text": [
      "env: TOKENIZERS_PARALLELISM=false\n"
     ]
    }
   ],
   "source": [
    "%env TOKENIZERS_PARALLELISM=false"
   ]
  },
  {
   "cell_type": "code",
   "execution_count": 3,
   "id": "c77cffc9",
   "metadata": {},
   "outputs": [],
   "source": [
    "SEED = 42\n",
    "MODE = \"cot\"  # \"label-only\" or \"cot\"\n",
    "\n",
    "set_seed(SEED)\n",
    "\n",
    "random.seed(SEED)\n",
    "torch.manual_seed(SEED)\n",
    "if torch.cuda.is_available():\n",
    "    torch.cuda.manual_seed(SEED)\n",
    "    torch.cuda.manual_seed_all(SEED)"
   ]
  },
  {
   "cell_type": "code",
   "execution_count": 4,
   "id": "d6a25a39",
   "metadata": {},
   "outputs": [],
   "source": [
    "MODEL_ID = \"Qwen/Qwen2.5-3B\"\n",
    "data_path = str(PROCESSED_DATA_DIR / \"dataset.jsonl\")\n",
    "output_dir = str(\n",
    "    MODELS_DIR / f\"qwen2.5_3b_{'sctod' if MODE == 'cot' else 'labelonly'}_lora\"\n",
    ")\n",
    "\n",
    "MAX_SEQ_LENGTH = 2048\n",
    "TRAIN_SPLIT = 0.8"
   ]
  },
  {
   "cell_type": "code",
   "execution_count": 5,
   "id": "b333a324",
   "metadata": {},
   "outputs": [],
   "source": [
    "torch.backends.cuda.matmul.allow_tf32 = True\n",
    "torch.backends.cudnn.allow_tf32 = True\n",
    "device = \"cuda\" if torch.cuda.is_available() else \"cpu\"\n",
    "bf16 = True"
   ]
  },
  {
   "cell_type": "code",
   "execution_count": 6,
   "id": "3d595610",
   "metadata": {},
   "outputs": [],
   "source": [
    "dataset = load_dataset(\"json\", data_files=data_path, split=\"train\")"
   ]
  },
  {
   "cell_type": "code",
   "execution_count": 7,
   "id": "79fb5ed9",
   "metadata": {},
   "outputs": [
    {
     "name": "stdout",
     "output_type": "stream",
     "text": [
      "Loaded dataset with 24952 samples and 7 columns: ['question_id', 'sample_id', 'question', 'gold_answer_text', 'gold_answer_number', 'teacher_answer_text', 'teacher_answer_number']\n"
     ]
    }
   ],
   "source": [
    "print(\n",
    "    f\"Loaded dataset with {len(dataset)} samples and {dataset.num_columns} columns: {dataset.column_names}\"\n",
    ")"
   ]
  },
  {
   "cell_type": "code",
   "execution_count": 8,
   "id": "f4a26bbb",
   "metadata": {},
   "outputs": [
    {
     "name": "stdout",
     "output_type": "stream",
     "text": [
      "Train examples: 20,028, Eval examples: 4,924\n"
     ]
    }
   ],
   "source": [
    "qids = sorted(set(dataset[\"question_id\"]))\n",
    "random.shuffle(qids)\n",
    "\n",
    "cut = int(len(qids) * TRAIN_SPLIT)\n",
    "\n",
    "train_qids = set(qids[:cut])\n",
    "eval_qids = set(qids[cut:])\n",
    "\n",
    "train_ds = dataset.filter(lambda ex: ex[\"question_id\"] in train_qids)\n",
    "eval_ds = dataset.filter(lambda ex: ex[\"question_id\"] in eval_qids)\n",
    "\n",
    "print(f\"Train examples: {len(train_ds):,}, Eval examples: {len(eval_ds):,}\")"
   ]
  },
  {
   "cell_type": "code",
   "execution_count": null,
   "id": "2d4825e1-b643-416a-b73f-9653b0af97c4",
   "metadata": {},
   "outputs": [],
   "source": [
    "def dedupe_by_question(ds):\n",
    "    ds_sorted = ds.sort([\"question_id\", \"sample_id\"])\n",
    "    keep_indices: list[int] = []\n",
    "    seen = set()\n",
    "    for i, ex in enumerate(ds_sorted):\n",
    "        qid = int(ex[\"question_id\"])\n",
    "        if qid not in seen:\n",
    "            seen.add(qid)\n",
    "            keep_indices.append(i)\n",
    "    return ds_sorted.select(keep_indices)\n",
    "\n",
    "\n",
    "if MODE == \"label-only\":\n",
    "    train_ds = dedupe_by_question(train_ds)\n",
    "    eval_ds = dedupe_by_question(eval_ds)"
   ]
  },
  {
   "cell_type": "code",
   "execution_count": 10,
   "id": "e99936d8",
   "metadata": {},
   "outputs": [],
   "source": [
    "tokenizer = AutoTokenizer.from_pretrained(\n",
    "    MODEL_ID, use_fast=True, trust_remote_code=True\n",
    ")"
   ]
  },
  {
   "cell_type": "code",
   "execution_count": 11,
   "id": "d29c31ab-96d7-4e64-9361-30a473905520",
   "metadata": {},
   "outputs": [
    {
     "data": {
      "text/plain": [
       "'right'"
      ]
     },
     "execution_count": 11,
     "metadata": {},
     "output_type": "execute_result"
    }
   ],
   "source": [
    "tokenizer.padding_side"
   ]
  },
  {
   "cell_type": "code",
   "execution_count": 12,
   "id": "afdf42d5",
   "metadata": {},
   "outputs": [
    {
     "data": {
      "application/vnd.jupyter.widget-view+json": {
       "model_id": "896f929cefbb4561947137dcaf53f09b",
       "version_major": 2,
       "version_minor": 0
      },
      "text/plain": [
       "Loading checkpoint shards:   0%|          | 0/2 [00:00<?, ?it/s]"
      ]
     },
     "metadata": {},
     "output_type": "display_data"
    }
   ],
   "source": [
    "bnb_config = BitsAndBytesConfig(\n",
    "    load_in_4bit=True,\n",
    "    bnb_4bit_compute_dtype=torch.bfloat16 if bf16 else torch.float16,\n",
    "    bnb_4bit_use_double_quant=True,\n",
    "    bnb_4bit_quant_type=\"nf4\",\n",
    ")\n",
    "\n",
    "model = AutoModelForCausalLM.from_pretrained(\n",
    "    MODEL_ID,\n",
    "    quantization_config=bnb_config,\n",
    "    dtype=torch.bfloat16 if bf16 else torch.float16,\n",
    "    device_map=\"auto\",\n",
    "    trust_remote_code=True,\n",
    ")\n",
    "model.config.use_cache = False  # important for gradient checkpointing\n",
    "model.gradient_checkpointing_enable()\n",
    "\n",
    "model = prepare_model_for_kbit_training(model)"
   ]
  },
  {
   "cell_type": "code",
   "execution_count": 13,
   "id": "240a73a1",
   "metadata": {},
   "outputs": [],
   "source": [
    "if tokenizer.pad_token is None:\n",
    "    tokenizer.pad_token = tokenizer.eos_token\n",
    "    model.config.pad_token_id = tokenizer.pad_token_id\n",
    "    model.generation_config.pad_token_id = tokenizer.pad_token_id"
   ]
  },
  {
   "cell_type": "code",
   "execution_count": 14,
   "id": "3ff4cd21",
   "metadata": {},
   "outputs": [
    {
     "name": "stdout",
     "output_type": "stream",
     "text": [
      "trainable params: 29,933,568 || all params: 3,115,872,256 || trainable%: 0.9607\n"
     ]
    }
   ],
   "source": [
    "lora_config = LoraConfig(\n",
    "    r=16,\n",
    "    lora_alpha=32,\n",
    "    lora_dropout=0.05,\n",
    "    bias=\"none\",\n",
    "    target_modules=[\n",
    "        \"q_proj\",\n",
    "        \"k_proj\",\n",
    "        \"v_proj\",\n",
    "        \"o_proj\",\n",
    "        \"gate_proj\",\n",
    "        \"up_proj\",\n",
    "        \"down_proj\",\n",
    "    ],\n",
    "    task_type=\"CAUSAL_LM\",\n",
    ")\n",
    "model = get_peft_model(model, lora_config)\n",
    "model.print_trainable_parameters()"
   ]
  },
  {
   "cell_type": "code",
   "execution_count": null,
   "id": "5f118e82",
   "metadata": {},
   "outputs": [
    {
     "data": {
      "application/vnd.jupyter.widget-view+json": {
       "model_id": "6bb66aa229674a40903982507af4ab37",
       "version_major": 2,
       "version_minor": 0
      },
      "text/plain": [
       "Map: 100%|##########| 20028/20028 [00:00<?, ? examples/s]"
      ]
     },
     "metadata": {},
     "output_type": "display_data"
    },
    {
     "data": {
      "application/vnd.jupyter.widget-view+json": {
       "model_id": "485496fe6c7b447ba87a87a25b6dd407",
       "version_major": 2,
       "version_minor": 0
      },
      "text/plain": [
       "Map: 100%|##########| 4924/4924 [00:00<?, ? examples/s]"
      ]
     },
     "metadata": {},
     "output_type": "display_data"
    }
   ],
   "source": [
    "def build_prompt_cot(question: str) -> str:\n",
    "    sys_txt = COT_SYSTEM_PROMPT.strip()\n",
    "    usr_txt = COT_USER_PROMPT.strip().format(question=question.strip())\n",
    "    return f\"{sys_txt}\\n\\n{usr_txt}\\n\"\n",
    "\n",
    "\n",
    "def build_prompt_label_only(question: str) -> str:\n",
    "    sys_txt = LABEL_ONLY_SYSTEM_PROMPT.strip()\n",
    "    usr_txt = LABEL_ONLY_USER_PROMPT.strip().format(question=question.strip())\n",
    "    return f\"{sys_txt}\\n\\n{usr_txt}\\n\"\n",
    "\n",
    "\n",
    "def format_final_answer(num) -> str:\n",
    "    return f\"Final Answer: {num}\"\n",
    "\n",
    "\n",
    "def encode_example(prompt: str, answer: str) -> dict[str, list[int]]:\n",
    "    prompt_ids = tokenizer(prompt, add_special_tokens=False)[\"input_ids\"]\n",
    "    ans_text = answer.strip() + tokenizer.eos_token\n",
    "    answer_ids = tokenizer(ans_text, add_special_tokens=False)[\"input_ids\"]\n",
    "\n",
    "    allowed_prompt = MAX_SEQ_LENGTH - len(answer_ids)\n",
    "    prompt_ids = prompt_ids[-max(0, allowed_prompt) :]\n",
    "    input_ids = prompt_ids + answer_ids\n",
    "    labels = [-100] * len(prompt_ids) + answer_ids\n",
    "    return {\"input_ids\": input_ids, \"labels\": labels}\n",
    "\n",
    "\n",
    "def preprocess_batch(batch):\n",
    "    inputs, labels = [], []\n",
    "    for q, teacher_answer_text, gold_answer_number in zip(\n",
    "        batch[\"question\"], batch[\"teacher_answer_text\"], batch[\"gold_answer_number\"]\n",
    "    ):\n",
    "        build_prompt = build_prompt_cot if MODE == \"cot\" else build_prompt_label_only\n",
    "        prompt = build_prompt(q)\n",
    "        ans = (\n",
    "            teacher_answer_text\n",
    "            if MODE == \"cot\"\n",
    "            else format_final_answer(gold_answer_number)\n",
    "        )\n",
    "        rec = encode_example(prompt, ans)\n",
    "        inputs.append(rec[\"input_ids\"])\n",
    "        labels.append(rec[\"labels\"])\n",
    "    return {\"input_ids\": inputs, \"labels\": labels}\n",
    "\n",
    "\n",
    "train_ds = train_ds.map(\n",
    "    preprocess_batch,\n",
    "    batched=True,\n",
    "    remove_columns=train_ds.column_names,\n",
    "    load_from_cache_file=False,\n",
    ")\n",
    "eval_ds = eval_ds.map(\n",
    "    preprocess_batch,\n",
    "    batched=True,\n",
    "    remove_columns=eval_ds.column_names,\n",
    "    load_from_cache_file=False,\n",
    ")"
   ]
  },
  {
   "cell_type": "code",
   "execution_count": 16,
   "id": "3307635f",
   "metadata": {},
   "outputs": [],
   "source": [
    "@dataclass\n",
    "class DataCollator:\n",
    "    tokenizer: AutoTokenizer\n",
    "    pad_to_multiple_of: int = 8  # for Tensor Cores\n",
    "\n",
    "    def __call__(self, features):\n",
    "        input_ids = [torch.tensor(f[\"input_ids\"], dtype=torch.long) for f in features]\n",
    "        labels = [torch.tensor(f[\"labels\"], dtype=torch.long) for f in features]\n",
    "        pad_id = self.tokenizer.pad_token_id\n",
    "        input_ids = pad_sequence(input_ids, batch_first=True, padding_value=pad_id)\n",
    "        labels = pad_sequence(labels, batch_first=True, padding_value=-100)\n",
    "\n",
    "        if self.pad_to_multiple_of is not None:\n",
    "\n",
    "            def _pad_to_mult(t, pad_value):\n",
    "                m = self.pad_to_multiple_of\n",
    "                if t.size(1) % m != 0:\n",
    "                    pad_len = m - (t.size(1) % m)\n",
    "                    pad_tensor = torch.full(\n",
    "                        (t.size(0), pad_len), pad_value, dtype=t.dtype\n",
    "                    )\n",
    "                    t = torch.cat([t, pad_tensor], dim=1)\n",
    "                return t\n",
    "\n",
    "            input_ids = _pad_to_mult(input_ids, pad_id)\n",
    "            labels = _pad_to_mult(labels, -100)\n",
    "\n",
    "        attention_mask = (input_ids != pad_id).long()\n",
    "        return {\n",
    "            \"input_ids\": input_ids,\n",
    "            \"attention_mask\": attention_mask,\n",
    "            \"labels\": labels,\n",
    "        }\n",
    "\n",
    "\n",
    "collator = DataCollator(tokenizer)"
   ]
  },
  {
   "cell_type": "code",
   "execution_count": null,
   "id": "27468bb5",
   "metadata": {},
   "outputs": [
    {
     "name": "stderr",
     "output_type": "stream",
     "text": [
      "The tokenizer has new PAD/BOS/EOS tokens that differ from the model config and generation config. The model config and generation config were aligned accordingly, being updated with the tokenizer's values. Updated tokens: {'bos_token_id': None, 'pad_token_id': 151643}.\n"
     ]
    },
    {
     "name": "stdout",
     "output_type": "stream",
     "text": [
      "Approx train tokens (pre-padding): 11,975,867\n"
     ]
    },
    {
     "data": {
      "text/html": [
       "\n",
       "    <div>\n",
       "      \n",
       "      <progress value='2504' max='2504' style='width:300px; height:20px; vertical-align: middle;'></progress>\n",
       "      [2504/2504 3:30:30, Epoch 2/2]\n",
       "    </div>\n",
       "    <table border=\"1\" class=\"dataframe\">\n",
       "  <thead>\n",
       " <tr style=\"text-align: left;\">\n",
       "      <th>Step</th>\n",
       "      <th>Training Loss</th>\n",
       "      <th>Validation Loss</th>\n",
       "    </tr>\n",
       "  </thead>\n",
       "  <tbody>\n",
       "    <tr>\n",
       "      <td>200</td>\n",
       "      <td>0.238500</td>\n",
       "      <td>0.234745</td>\n",
       "    </tr>\n",
       "    <tr>\n",
       "      <td>400</td>\n",
       "      <td>0.190400</td>\n",
       "      <td>0.225248</td>\n",
       "    </tr>\n",
       "    <tr>\n",
       "      <td>600</td>\n",
       "      <td>0.171100</td>\n",
       "      <td>0.219601</td>\n",
       "    </tr>\n",
       "    <tr>\n",
       "      <td>800</td>\n",
       "      <td>0.174100</td>\n",
       "      <td>0.218803</td>\n",
       "    </tr>\n",
       "    <tr>\n",
       "      <td>1000</td>\n",
       "      <td>0.181100</td>\n",
       "      <td>0.215693</td>\n",
       "    </tr>\n",
       "    <tr>\n",
       "      <td>1200</td>\n",
       "      <td>0.190200</td>\n",
       "      <td>0.214166</td>\n",
       "    </tr>\n",
       "    <tr>\n",
       "      <td>1400</td>\n",
       "      <td>0.159700</td>\n",
       "      <td>0.214895</td>\n",
       "    </tr>\n",
       "    <tr>\n",
       "      <td>1600</td>\n",
       "      <td>0.168900</td>\n",
       "      <td>0.214910</td>\n",
       "    </tr>\n",
       "    <tr>\n",
       "      <td>1800</td>\n",
       "      <td>0.146000</td>\n",
       "      <td>0.214741</td>\n",
       "    </tr>\n",
       "    <tr>\n",
       "      <td>2000</td>\n",
       "      <td>0.176200</td>\n",
       "      <td>0.213399</td>\n",
       "    </tr>\n",
       "    <tr>\n",
       "      <td>2200</td>\n",
       "      <td>0.160400</td>\n",
       "      <td>0.213662</td>\n",
       "    </tr>\n",
       "    <tr>\n",
       "      <td>2400</td>\n",
       "      <td>0.164400</td>\n",
       "      <td>0.213424</td>\n",
       "    </tr>\n",
       "  </tbody>\n",
       "</table><p>"
      ],
      "text/plain": [
       "<IPython.core.display.HTML object>"
      ]
     },
     "metadata": {},
     "output_type": "display_data"
    }
   ],
   "source": [
    "total_train_tokens = sum(len(x) for x in train_ds[\"input_ids\"])\n",
    "print(f\"Approx train tokens (pre-padding): {total_train_tokens:,}\")\n",
    "\n",
    "if MODE == \"cot\":\n",
    "    training_args = {\n",
    "        \"learning_rate\": 2e-5,\n",
    "        \"num_train_epochs\": 10,\n",
    "        \"per_device_train_batch_size\": 8,\n",
    "        \"per_device_eval_batch_size\": 8,\n",
    "        \"gradient_accumulation_steps\": 2,\n",
    "        \"warmup_ratio\": 0.03,\n",
    "        \"weight_decay\": 0,\n",
    "        \"save_steps\": 200,\n",
    "        \"eval_steps\": 200,\n",
    "    }\n",
    "elif MODE == \"label-only\":\n",
    "    training_args = {\n",
    "        \"learning_rate\": 1e-5,\n",
    "        \"num_train_epochs\": 10,\n",
    "        \"per_device_train_batch_size\": 16,\n",
    "        \"per_device_eval_batch_size\": 16,\n",
    "        \"gradient_accumulation_steps\": 1,\n",
    "        \"warmup_ratio\": 0.1,\n",
    "        \"weight_decay\": 0.1,\n",
    "        \"max_grad_norm\": 1.0,\n",
    "        \"save_steps\": 50,\n",
    "        \"eval_steps\": 50,\n",
    "    }\n",
    "\n",
    "args = TrainingArguments(\n",
    "    **training_args,\n",
    "    output_dir=output_dir,\n",
    "    logging_steps=10,\n",
    "    save_strategy=\"steps\",\n",
    "    eval_strategy=\"steps\",\n",
    "    lr_scheduler_type=\"linear\",\n",
    "    fp16=not bf16 and torch.cuda.is_available(),\n",
    "    bf16=bf16,\n",
    "    optim=\"paged_adamw_8bit\",\n",
    "    gradient_checkpointing=True,\n",
    "    group_by_length=True,\n",
    "    report_to=\"tensorboard\",\n",
    "    dataloader_num_workers=4,\n",
    "    dataloader_pin_memory=True,\n",
    "    load_best_model_at_end=True,\n",
    "    metric_for_best_model=\"eval_loss\",\n",
    "    greater_is_better=False,\n",
    "    seed=SEED,\n",
    "    data_seed=SEED,\n",
    ")\n",
    "\n",
    "trainer = Trainer(\n",
    "    model=model,\n",
    "    args=args,\n",
    "    train_dataset=train_ds,\n",
    "    eval_dataset=eval_ds,\n",
    "    data_collator=collator,\n",
    "    processing_class=tokenizer,\n",
    ")\n",
    "\n",
    "try:\n",
    "    trainer.train()\n",
    "except KeyboardInterrupt:\n",
    "    print(\"Training interrupted keyboard input\")"
   ]
  },
  {
   "cell_type": "code",
   "execution_count": 18,
   "id": "a6696bf4-c736-460e-b05e-208990c4f637",
   "metadata": {},
   "outputs": [
    {
     "data": {
      "text/plain": [
       "'/workspace/chain-of-thought-distillation/code/artifacts/models/qwen2.5_3b_sctod_lora/checkpoint-2000'"
      ]
     },
     "execution_count": 18,
     "metadata": {},
     "output_type": "execute_result"
    }
   ],
   "source": [
    "trainer.state.best_model_checkpoint"
   ]
  },
  {
   "cell_type": "code",
   "execution_count": null,
   "id": "b7474f96-a1ee-4f8b-9ef9-e530b8736628",
   "metadata": {},
   "outputs": [
    {
     "data": {
      "application/vnd.jupyter.widget-view+json": {
       "model_id": "416941a7cf4643c4b8d9d17df4633442",
       "version_major": 2,
       "version_minor": 0
      },
      "text/plain": [
       "Loading checkpoint shards:   0%|          | 0/2 [00:00<?, ?it/s]"
      ]
     },
     "metadata": {},
     "output_type": "display_data"
    },
    {
     "name": "stderr",
     "output_type": "stream",
     "text": [
      "/workspace/chain-of-thought-distillation/code/.venv/lib/python3.11/site-packages/peft/tuners/lora/bnb.py:348: UserWarning: Merge lora module to 4-bit linear may get different generations due to rounding errors.\n",
      "  warnings.warn(\n"
     ]
    },
    {
     "data": {
      "text/plain": [
       "('/workspace/chain-of-thought-distillation/code/artifacts/models/qwen2.5_3b_sctod_lora/best_checkpoint/tokenizer_config.json',\n",
       " '/workspace/chain-of-thought-distillation/code/artifacts/models/qwen2.5_3b_sctod_lora/best_checkpoint/special_tokens_map.json',\n",
       " '/workspace/chain-of-thought-distillation/code/artifacts/models/qwen2.5_3b_sctod_lora/best_checkpoint/chat_template.jinja',\n",
       " '/workspace/chain-of-thought-distillation/code/artifacts/models/qwen2.5_3b_sctod_lora/best_checkpoint/vocab.json',\n",
       " '/workspace/chain-of-thought-distillation/code/artifacts/models/qwen2.5_3b_sctod_lora/best_checkpoint/merges.txt',\n",
       " '/workspace/chain-of-thought-distillation/code/artifacts/models/qwen2.5_3b_sctod_lora/best_checkpoint/added_tokens.json',\n",
       " '/workspace/chain-of-thought-distillation/code/artifacts/models/qwen2.5_3b_sctod_lora/best_checkpoint/tokenizer.json')"
      ]
     },
     "execution_count": 19,
     "metadata": {},
     "output_type": "execute_result"
    }
   ],
   "source": [
    "bnb_config = BitsAndBytesConfig(\n",
    "    load_in_4bit=True,\n",
    "    bnb_4bit_compute_dtype=torch.bfloat16,  # you trained with bf16=True\n",
    "    bnb_4bit_use_double_quant=True,\n",
    "    bnb_4bit_quant_type=\"nf4\",\n",
    ")\n",
    "\n",
    "base_model = AutoModelForCausalLM.from_pretrained(\n",
    "    MODEL_ID,\n",
    "    quantization_config=bnb_config,\n",
    "    device_map=\"auto\",\n",
    "    trust_remote_code=True,\n",
    ")\n",
    "\n",
    "model = PeftModel.from_pretrained(\n",
    "    base_model, trainer.state.best_model_checkpoint, is_trainable=False\n",
    ")"
   ]
  },
  {
   "cell_type": "code",
   "execution_count": null,
   "id": "1d01b38f",
   "metadata": {},
   "outputs": [
    {
     "name": "stderr",
     "output_type": "stream",
     "text": [
      "The following generation flags are not valid and may be ignored: ['temperature']. Set `TRANSFORMERS_VERBOSITY=info` for more details.\n"
     ]
    },
    {
     "name": "stdout",
     "output_type": "stream",
     "text": [
      "Reasoning:\n",
      "- Initially: 3×12 = 36\n",
      "- After selling: 36 − 7 = 29\n",
      "- After buying: 29 + 5 = 34\n",
      "Final Answer: 34\n"
     ]
    }
   ],
   "source": [
    "def generate_answer(question: str) -> str:\n",
    "    model.eval()\n",
    "    with torch.no_grad():\n",
    "        build_prompt = build_prompt_cot if MODE == \"cot\" else build_prompt_label_only\n",
    "        prompt = build_prompt(question)\n",
    "        enc = tokenizer(prompt, return_tensors=\"pt\").to(model.device)\n",
    "\n",
    "        out = model.generate(\n",
    "            **enc,\n",
    "            do_sample=False,\n",
    "            eos_token_id=tokenizer.eos_token_id,\n",
    "            pad_token_id=tokenizer.pad_token_id,\n",
    "            use_cache=True,\n",
    "        )\n",
    "\n",
    "        new_tokens = out[:, enc[\"input_ids\"].size(1) :]\n",
    "        text = tokenizer.batch_decode(new_tokens, skip_special_tokens=True)[0].strip()\n",
    "        return text\n",
    "\n",
    "\n",
    "print(\n",
    "    generate_answer(\n",
    "        \"A farm has 3 barns with 12 cows each. It sells 7 cows and buys 5 more. How many cows now?\"\n",
    "    )\n",
    ")"
   ]
  },
  {
   "cell_type": "code",
   "execution_count": null,
   "id": "dd62f4fa-7236-4234-bbfc-692244ad2d4e",
   "metadata": {},
   "outputs": [],
   "source": []
  }
 ],
 "metadata": {
  "kernelspec": {
   "display_name": "engineering-thesis",
   "language": "python",
   "name": "python3"
  },
  "language_info": {
   "codemirror_mode": {
    "name": "ipython",
    "version": 3
   },
   "file_extension": ".py",
   "mimetype": "text/x-python",
   "name": "python",
   "nbconvert_exporter": "python",
   "pygments_lexer": "ipython3",
   "version": "3.11.12"
  }
 },
 "nbformat": 4,
 "nbformat_minor": 5
}
