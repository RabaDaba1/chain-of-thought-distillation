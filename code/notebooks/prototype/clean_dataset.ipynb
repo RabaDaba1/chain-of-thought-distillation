{
 "cells": [
  {
   "cell_type": "code",
   "execution_count": 4,
   "id": "7688af3a",
   "metadata": {},
   "outputs": [],
   "source": [
    "import pandas as pd"
   ]
  },
  {
   "cell_type": "code",
   "execution_count": 5,
   "id": "40530787",
   "metadata": {},
   "outputs": [
    {
     "data": {
      "text/html": [
       "<div>\n",
       "<style scoped>\n",
       "    .dataframe tbody tr th:only-of-type {\n",
       "        vertical-align: middle;\n",
       "    }\n",
       "\n",
       "    .dataframe tbody tr th {\n",
       "        vertical-align: top;\n",
       "    }\n",
       "\n",
       "    .dataframe thead th {\n",
       "        text-align: right;\n",
       "    }\n",
       "</style>\n",
       "<table border=\"1\" class=\"dataframe\">\n",
       "  <thead>\n",
       "    <tr style=\"text-align: right;\">\n",
       "      <th></th>\n",
       "      <th></th>\n",
       "      <th>question</th>\n",
       "      <th>gold_answer_text</th>\n",
       "      <th>gold_answer_number</th>\n",
       "      <th>teacher_answer_text</th>\n",
       "      <th>teacher_answer_number</th>\n",
       "      <th>is_correct</th>\n",
       "      <th>finish_reason</th>\n",
       "      <th>usage</th>\n",
       "      <th>latency_ms</th>\n",
       "      <th>model</th>\n",
       "      <th>request_id</th>\n",
       "    </tr>\n",
       "    <tr>\n",
       "      <th>question_id</th>\n",
       "      <th>sample_id</th>\n",
       "      <th></th>\n",
       "      <th></th>\n",
       "      <th></th>\n",
       "      <th></th>\n",
       "      <th></th>\n",
       "      <th></th>\n",
       "      <th></th>\n",
       "      <th></th>\n",
       "      <th></th>\n",
       "      <th></th>\n",
       "      <th></th>\n",
       "    </tr>\n",
       "  </thead>\n",
       "  <tbody>\n",
       "    <tr>\n",
       "      <th rowspan=\"5\" valign=\"top\">0</th>\n",
       "      <th>0</th>\n",
       "      <td>Natalia sold clips to 48 of her friends in Apr...</td>\n",
       "      <td>Natalia sold 48/2 = &lt;&lt;48/2=24&gt;&gt;24 clips in May...</td>\n",
       "      <td>72</td>\n",
       "      <td>Reasoning:\\n- Clips sold in April: 48\\n- Clips...</td>\n",
       "      <td>72</td>\n",
       "      <td>True</td>\n",
       "      <td>stop</td>\n",
       "      <td>{'prompt_tokens': 492, 'completion_tokens': 11...</td>\n",
       "      <td>3842</td>\n",
       "      <td>deepseek/deepseek-r1-distill-qwen-32b</td>\n",
       "      <td>gen-1758377575-oMv82kc9HfBY8pUPbFYs</td>\n",
       "    </tr>\n",
       "    <tr>\n",
       "      <th>1</th>\n",
       "      <td>Natalia sold clips to 48 of her friends in Apr...</td>\n",
       "      <td>Natalia sold 48/2 = &lt;&lt;48/2=24&gt;&gt;24 clips in May...</td>\n",
       "      <td>72</td>\n",
       "      <td>- Clips in April: 48\\n- Clips in May: 48 ÷ 2 =...</td>\n",
       "      <td>72</td>\n",
       "      <td>True</td>\n",
       "      <td>stop</td>\n",
       "      <td>{'prompt_tokens': 492, 'completion_tokens': 92...</td>\n",
       "      <td>3064</td>\n",
       "      <td>deepseek/deepseek-r1-distill-qwen-32b</td>\n",
       "      <td>gen-1758377579-EqblKG6QXW2nK8zqjlZZ</td>\n",
       "    </tr>\n",
       "    <tr>\n",
       "      <th>2</th>\n",
       "      <td>Natalia sold clips to 48 of her friends in Apr...</td>\n",
       "      <td>Natalia sold 48/2 = &lt;&lt;48/2=24&gt;&gt;24 clips in May...</td>\n",
       "      <td>72</td>\n",
       "      <td>Reasoning:\\n- Clips sold in April: 48\\n- Clips...</td>\n",
       "      <td>72</td>\n",
       "      <td>True</td>\n",
       "      <td>stop</td>\n",
       "      <td>{'prompt_tokens': 492, 'completion_tokens': 14...</td>\n",
       "      <td>3401</td>\n",
       "      <td>deepseek/deepseek-r1-distill-qwen-32b</td>\n",
       "      <td>gen-1758377582-CUs4tuG1WgP5Pw8IRYmY</td>\n",
       "    </tr>\n",
       "    <tr>\n",
       "      <th>3</th>\n",
       "      <td>Natalia sold clips to 48 of her friends in Apr...</td>\n",
       "      <td>Natalia sold 48/2 = &lt;&lt;48/2=24&gt;&gt;24 clips in May...</td>\n",
       "      <td>72</td>\n",
       "      <td>Reasoning:\\n- April sales: 48\\n- May sales: 48...</td>\n",
       "      <td>72</td>\n",
       "      <td>True</td>\n",
       "      <td>stop</td>\n",
       "      <td>{'prompt_tokens': 492, 'completion_tokens': 15...</td>\n",
       "      <td>3651</td>\n",
       "      <td>deepseek/deepseek-r1-distill-qwen-32b</td>\n",
       "      <td>gen-1758377586-akeYwooKqWXHaULQM0lK</td>\n",
       "    </tr>\n",
       "    <tr>\n",
       "      <th>4</th>\n",
       "      <td>Natalia sold clips to 48 of her friends in Apr...</td>\n",
       "      <td>Natalia sold 48/2 = &lt;&lt;48/2=24&gt;&gt;24 clips in May...</td>\n",
       "      <td>72</td>\n",
       "      <td>Reasoning:\\n- Clips sold in April: 48\\n- Clips...</td>\n",
       "      <td>72</td>\n",
       "      <td>True</td>\n",
       "      <td>stop</td>\n",
       "      <td>{'prompt_tokens': 492, 'completion_tokens': 14...</td>\n",
       "      <td>3535</td>\n",
       "      <td>deepseek/deepseek-r1-distill-qwen-32b</td>\n",
       "      <td>gen-1758377590-sAz1pvSg3wVeEYJ7J02i</td>\n",
       "    </tr>\n",
       "  </tbody>\n",
       "</table>\n",
       "</div>"
      ],
      "text/plain": [
       "                                                                question  \\\n",
       "question_id sample_id                                                      \n",
       "0           0          Natalia sold clips to 48 of her friends in Apr...   \n",
       "            1          Natalia sold clips to 48 of her friends in Apr...   \n",
       "            2          Natalia sold clips to 48 of her friends in Apr...   \n",
       "            3          Natalia sold clips to 48 of her friends in Apr...   \n",
       "            4          Natalia sold clips to 48 of her friends in Apr...   \n",
       "\n",
       "                                                        gold_answer_text  \\\n",
       "question_id sample_id                                                      \n",
       "0           0          Natalia sold 48/2 = <<48/2=24>>24 clips in May...   \n",
       "            1          Natalia sold 48/2 = <<48/2=24>>24 clips in May...   \n",
       "            2          Natalia sold 48/2 = <<48/2=24>>24 clips in May...   \n",
       "            3          Natalia sold 48/2 = <<48/2=24>>24 clips in May...   \n",
       "            4          Natalia sold 48/2 = <<48/2=24>>24 clips in May...   \n",
       "\n",
       "                       gold_answer_number  \\\n",
       "question_id sample_id                       \n",
       "0           0                          72   \n",
       "            1                          72   \n",
       "            2                          72   \n",
       "            3                          72   \n",
       "            4                          72   \n",
       "\n",
       "                                                     teacher_answer_text  \\\n",
       "question_id sample_id                                                      \n",
       "0           0          Reasoning:\\n- Clips sold in April: 48\\n- Clips...   \n",
       "            1          - Clips in April: 48\\n- Clips in May: 48 ÷ 2 =...   \n",
       "            2          Reasoning:\\n- Clips sold in April: 48\\n- Clips...   \n",
       "            3          Reasoning:\\n- April sales: 48\\n- May sales: 48...   \n",
       "            4          Reasoning:\\n- Clips sold in April: 48\\n- Clips...   \n",
       "\n",
       "                       teacher_answer_number  is_correct finish_reason  \\\n",
       "question_id sample_id                                                    \n",
       "0           0                             72        True          stop   \n",
       "            1                             72        True          stop   \n",
       "            2                             72        True          stop   \n",
       "            3                             72        True          stop   \n",
       "            4                             72        True          stop   \n",
       "\n",
       "                                                                   usage  \\\n",
       "question_id sample_id                                                      \n",
       "0           0          {'prompt_tokens': 492, 'completion_tokens': 11...   \n",
       "            1          {'prompt_tokens': 492, 'completion_tokens': 92...   \n",
       "            2          {'prompt_tokens': 492, 'completion_tokens': 14...   \n",
       "            3          {'prompt_tokens': 492, 'completion_tokens': 15...   \n",
       "            4          {'prompt_tokens': 492, 'completion_tokens': 14...   \n",
       "\n",
       "                       latency_ms                                  model  \\\n",
       "question_id sample_id                                                      \n",
       "0           0                3842  deepseek/deepseek-r1-distill-qwen-32b   \n",
       "            1                3064  deepseek/deepseek-r1-distill-qwen-32b   \n",
       "            2                3401  deepseek/deepseek-r1-distill-qwen-32b   \n",
       "            3                3651  deepseek/deepseek-r1-distill-qwen-32b   \n",
       "            4                3535  deepseek/deepseek-r1-distill-qwen-32b   \n",
       "\n",
       "                                                request_id  \n",
       "question_id sample_id                                       \n",
       "0           0          gen-1758377575-oMv82kc9HfBY8pUPbFYs  \n",
       "            1          gen-1758377579-EqblKG6QXW2nK8zqjlZZ  \n",
       "            2          gen-1758377582-CUs4tuG1WgP5Pw8IRYmY  \n",
       "            3          gen-1758377586-akeYwooKqWXHaULQM0lK  \n",
       "            4          gen-1758377590-sAz1pvSg3wVeEYJ7J02i  "
      ]
     },
     "execution_count": 5,
     "metadata": {},
     "output_type": "execute_result"
    }
   ],
   "source": [
    "df = (\n",
    "    pd.read_json(\"../artifacts/data/raw/datasetN=30.jsonl\", lines=True)\n",
    "    .set_index([\"question_id\", \"sample_id\"])\n",
    "    .sort_index()\n",
    ")\n",
    "df.head()"
   ]
  },
  {
   "cell_type": "code",
   "execution_count": 6,
   "id": "29d28f32",
   "metadata": {},
   "outputs": [
    {
     "data": {
      "text/plain": [
       "300"
      ]
     },
     "execution_count": 6,
     "metadata": {},
     "output_type": "execute_result"
    }
   ],
   "source": [
    "len(df)"
   ]
  },
  {
   "cell_type": "code",
   "execution_count": 7,
   "id": "215ec8a7",
   "metadata": {},
   "outputs": [
    {
     "data": {
      "text/plain": [
       "292"
      ]
     },
     "execution_count": 7,
     "metadata": {},
     "output_type": "execute_result"
    }
   ],
   "source": [
    "df = df[df[\"is_correct\"]]\n",
    "len(df)"
   ]
  },
  {
   "cell_type": "code",
   "execution_count": 8,
   "id": "4a45ce59",
   "metadata": {},
   "outputs": [
    {
     "data": {
      "text/plain": [
       "247"
      ]
     },
     "execution_count": 8,
     "metadata": {},
     "output_type": "execute_result"
    }
   ],
   "source": [
    "df = df.drop_duplicates(subset=[\"teacher_answer_text\"])\n",
    "len(df)"
   ]
  },
  {
   "cell_type": "code",
   "execution_count": null,
   "id": "1132b9bf",
   "metadata": {},
   "outputs": [],
   "source": [
    "df.to_json(\"../artifacts/data/cleaned/dataset.jsonl\", lines=True, orient=\"records\")"
   ]
  }
 ],
 "metadata": {
  "kernelspec": {
   "display_name": "engineering-thesis (3.11.12)",
   "language": "python",
   "name": "python3"
  },
  "language_info": {
   "codemirror_mode": {
    "name": "ipython",
    "version": 3
   },
   "file_extension": ".py",
   "mimetype": "text/x-python",
   "name": "python",
   "nbconvert_exporter": "python",
   "pygments_lexer": "ipython3",
   "version": "3.11.12"
  }
 },
 "nbformat": 4,
 "nbformat_minor": 5
}
