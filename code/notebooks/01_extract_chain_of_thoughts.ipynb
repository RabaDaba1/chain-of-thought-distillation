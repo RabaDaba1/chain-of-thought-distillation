{
 "cells": [
  {
   "cell_type": "code",
   "execution_count": null,
   "id": "3faca378",
   "metadata": {},
   "outputs": [],
   "source": [
    "from __future__ import annotations\n",
    "\n",
    "import asyncio\n",
    "import hashlib\n",
    "import json\n",
    "import os\n",
    "import re\n",
    "import time\n",
    "from pathlib import Path\n",
    "from sys import path\n",
    "\n",
    "import tqdm\n",
    "import tqdm.asyncio\n",
    "from datasets import load_dataset\n",
    "from dotenv import load_dotenv\n",
    "\n",
    "load_dotenv()\n",
    "path.append(str(Path.cwd().parent))"
   ]
  },
  {
   "cell_type": "code",
   "execution_count": 3,
   "id": "7ca223ed",
   "metadata": {},
   "outputs": [],
   "source": [
    "from src.config import (\n",
    "    GSM8K_PATH,\n",
    "    RANDOM_STATE,\n",
    "    TEACHER_COTS_FILE,\n",
    "    TEACHER_SYSTEM_PROMPT,\n",
    "    TEACHER_USER_PROMPT,\n",
    ")\n",
    "from src.logs import get_logger"
   ]
  },
  {
   "cell_type": "code",
   "execution_count": 4,
   "id": "c101a463",
   "metadata": {},
   "outputs": [],
   "source": [
    "logger = get_logger(__name__)"
   ]
  },
  {
   "cell_type": "code",
   "execution_count": 5,
   "id": "d1bf582a",
   "metadata": {},
   "outputs": [],
   "source": [
    "dataset = load_dataset(GSM8K_PATH, \"main\", split=\"train\")"
   ]
  },
  {
   "cell_type": "code",
   "execution_count": 6,
   "id": "4a859144",
   "metadata": {},
   "outputs": [
    {
     "data": {
      "text/plain": [
       "Dataset({\n",
       "    features: ['question', 'answer'],\n",
       "    num_rows: 7473\n",
       "})"
      ]
     },
     "execution_count": 6,
     "metadata": {},
     "output_type": "execute_result"
    }
   ],
   "source": [
    "dataset"
   ]
  },
  {
   "cell_type": "code",
   "execution_count": 7,
   "id": "ab10afed",
   "metadata": {},
   "outputs": [
    {
     "data": {
      "text/plain": [
       "{'question': ['Natalia sold clips to 48 of her friends in April, and then she sold half as many clips in May. How many clips did Natalia sell altogether in April and May?',\n",
       "  'Weng earns $12 an hour for babysitting. Yesterday, she just did 50 minutes of babysitting. How much did she earn?',\n",
       "  'Betty is saving money for a new wallet which costs $100. Betty has only half of the money she needs. Her parents decided to give her $15 for that purpose, and her grandparents twice as much as her parents. How much more money does Betty need to buy the wallet?',\n",
       "  'Julie is reading a 120-page book. Yesterday, she was able to read 12 pages and today, she read twice as many pages as yesterday. If she wants to read half of the remaining pages tomorrow, how many pages should she read?',\n",
       "  'James writes a 3-page letter to 2 different friends twice a week.  How many pages does he write a year?'],\n",
       " 'answer': ['Natalia sold 48/2 = <<48/2=24>>24 clips in May.\\nNatalia sold 48+24 = <<48+24=72>>72 clips altogether in April and May.\\n#### 72',\n",
       "  'Weng earns 12/60 = $<<12/60=0.2>>0.2 per minute.\\nWorking 50 minutes, she earned 0.2 x 50 = $<<0.2*50=10>>10.\\n#### 10',\n",
       "  \"In the beginning, Betty has only 100 / 2 = $<<100/2=50>>50.\\nBetty's grandparents gave her 15 * 2 = $<<15*2=30>>30.\\nThis means, Betty needs 100 - 50 - 30 - 15 = $<<100-50-30-15=5>>5 more.\\n#### 5\",\n",
       "  'Maila read 12 x 2 = <<12*2=24>>24 pages today.\\nSo she was able to read a total of 12 + 24 = <<12+24=36>>36 pages since yesterday.\\nThere are 120 - 36 = <<120-36=84>>84 pages left to be read.\\nSince she wants to read half of the remaining pages tomorrow, then she should read 84/2 = <<84/2=42>>42 pages.\\n#### 42',\n",
       "  'He writes each friend 3*2=<<3*2=6>>6 pages a week\\nSo he writes 6*2=<<6*2=12>>12 pages every week\\nThat means he writes 12*52=<<12*52=624>>624 pages a year\\n#### 624']}"
      ]
     },
     "execution_count": 7,
     "metadata": {},
     "output_type": "execute_result"
    }
   ],
   "source": [
    "dataset[:5]"
   ]
  },
  {
   "cell_type": "code",
   "execution_count": null,
   "id": "ce1ff817",
   "metadata": {},
   "outputs": [],
   "source": [
    "import httpx\n",
    "\n",
    "client = httpx.AsyncClient(\n",
    "    base_url=\"https://openrouter.ai/api/v1\",\n",
    "    headers={\"Authorization\": f\"Bearer {os.environ['OPENROUTER_API_KEY']}\"},\n",
    "    timeout=60.0,\n",
    ")\n",
    "\n",
    "\n",
    "async def get_teacher_response(question: str, client: httpx.AsyncClient):\n",
    "    payload = {\n",
    "        \"model\": \"deepseek/deepseek-r1-distill-qwen-32b\",\n",
    "        \"messages\": [\n",
    "            {\"role\": \"system\", \"content\": TEACHER_SYSTEM_PROMPT},\n",
    "            {\"role\": \"user\", \"content\": TEACHER_USER_PROMPT.format(question=question)},\n",
    "        ],\n",
    "        \"provider\": {\"only\": [\"deepinfra/fp8\"], \"allow_fallbacks\": False},\n",
    "        \"temperature\": 0.8,\n",
    "        \"top_p\": 0.95,\n",
    "        \"tool_choice\": \"none\",\n",
    "    }\n",
    "\n",
    "    resp = await client.post(\"/chat/completions\", json=payload)\n",
    "    resp.raise_for_status()\n",
    "    return resp.json()"
   ]
  },
  {
   "cell_type": "code",
   "execution_count": 9,
   "id": "763c7605",
   "metadata": {},
   "outputs": [
    {
     "data": {
      "text/plain": [
       "{'question': 'Natalia sold clips to 48 of her friends in April, and then she sold half as many clips in May. How many clips did Natalia sell altogether in April and May?',\n",
       " 'answer': 'Natalia sold 48/2 = <<48/2=24>>24 clips in May.\\nNatalia sold 48+24 = <<48+24=72>>72 clips altogether in April and May.\\n#### 72'}"
      ]
     },
     "execution_count": 9,
     "metadata": {},
     "output_type": "execute_result"
    }
   ],
   "source": [
    "dataset[0]"
   ]
  },
  {
   "cell_type": "code",
   "execution_count": 10,
   "id": "c90a895f",
   "metadata": {},
   "outputs": [],
   "source": [
    "response = await get_teacher_response(dataset[0][\"question\"], client)"
   ]
  },
  {
   "cell_type": "code",
   "execution_count": 11,
   "id": "6fc0eba1",
   "metadata": {},
   "outputs": [
    {
     "data": {
      "text/plain": [
       "{'id': 'gen-1757883160-B4awjlanbxEM2YHIo6hl',\n",
       " 'provider': 'DeepInfra',\n",
       " 'model': 'deepseek/deepseek-r1-distill-qwen-32b',\n",
       " 'object': 'chat.completion',\n",
       " 'created': 1757883160,\n",
       " 'choices': [{'logprobs': None,\n",
       "   'finish_reason': 'stop',\n",
       "   'native_finish_reason': 'stop',\n",
       "   'index': 0,\n",
       "   'message': {'role': 'assistant',\n",
       "    'content': 'Reasoning:\\n- Clips sold in April: 48\\n- Clips sold in May: 48 ÷ 2 = 24\\n- Total clips sold: 48 + 24 = 72\\nFinal Answer: 72',\n",
       "    'refusal': None,\n",
       "    'reasoning': \"First, identify the number of clips sold in April, which is 48.\\n\\nNext, determine the number of clips sold in May by calculating half of April's sales: 48 divided by 2 equals 24.\\n\\nFinally, add the clips sold in both months to find the total: 48 plus 24 equals 72.\\n\"}}],\n",
       " 'usage': {'prompt_tokens': 492,\n",
       "  'completion_tokens': 129,\n",
       "  'total_tokens': 621,\n",
       "  'prompt_tokens_details': None}}"
      ]
     },
     "execution_count": 11,
     "metadata": {},
     "output_type": "execute_result"
    }
   ],
   "source": [
    "response"
   ]
  },
  {
   "cell_type": "code",
   "execution_count": 12,
   "id": "1311d96b",
   "metadata": {},
   "outputs": [
    {
     "name": "stdout",
     "output_type": "stream",
     "text": [
      "Reasoning:\n",
      "- Clips sold in April: 48\n",
      "- Clips sold in May: 48 ÷ 2 = 24\n",
      "- Total clips sold: 48 + 24 = 72\n",
      "Final Answer: 72\n"
     ]
    }
   ],
   "source": [
    "print(response[\"choices\"][0][\"message\"][\"content\"])"
   ]
  },
  {
   "cell_type": "code",
   "execution_count": 13,
   "id": "4243eb6c",
   "metadata": {},
   "outputs": [
    {
     "name": "stdout",
     "output_type": "stream",
     "text": [
      "First, identify the number of clips sold in April, which is 48.\n",
      "\n",
      "Next, determine the number of clips sold in May by calculating half of April's sales: 48 divided by 2 equals 24.\n",
      "\n",
      "Finally, add the clips sold in both months to find the total: 48 plus 24 equals 72.\n",
      "\n"
     ]
    }
   ],
   "source": [
    "print(response[\"choices\"][0][\"message\"][\"reasoning\"])"
   ]
  },
  {
   "cell_type": "code",
   "execution_count": 14,
   "id": "2088cc72",
   "metadata": {},
   "outputs": [
    {
     "data": {
      "text/plain": [
       "{'prompt_tokens': 492,\n",
       " 'completion_tokens': 129,\n",
       " 'total_tokens': 621,\n",
       " 'prompt_tokens_details': None}"
      ]
     },
     "execution_count": 14,
     "metadata": {},
     "output_type": "execute_result"
    }
   ],
   "source": [
    "response[\"usage\"]"
   ]
  },
  {
   "cell_type": "code",
   "execution_count": 15,
   "id": "bd434818",
   "metadata": {},
   "outputs": [
    {
     "data": {
      "text/plain": [
       "'DeepInfra'"
      ]
     },
     "execution_count": 15,
     "metadata": {},
     "output_type": "execute_result"
    }
   ],
   "source": [
    "response[\"provider\"]"
   ]
  },
  {
   "cell_type": "code",
   "execution_count": null,
   "id": "1889ef52",
   "metadata": {},
   "outputs": [],
   "source": [
    "NUM_EXAMPLES = 10\n",
    "NUM_SAMPLES_PER_EXAMPLE = 3\n",
    "MAX_CONCURRENCY = 100"
   ]
  },
  {
   "cell_type": "code",
   "execution_count": null,
   "id": "06f7d1c5",
   "metadata": {},
   "outputs": [],
   "source": [
    "_num_re = re.compile(r\"[-+]?\\d*\\.?\\d+(?:[eE][-+]?\\d+)?\")\n",
    "\n",
    "\n",
    "def sha256(s: str) -> str:\n",
    "    return hashlib.sha256(s.encode()).hexdigest()\n",
    "\n",
    "\n",
    "def _to_number(s: str):\n",
    "    m = _num_re.findall(s)\n",
    "    if not m:\n",
    "        return None\n",
    "    val = m[-1]\n",
    "    if \"e\" in val.lower() or \".\" in val:\n",
    "        return float(val)\n",
    "    return int(val)\n",
    "\n",
    "\n",
    "def parse_gsm8k_answer(ans: str):\n",
    "    try:\n",
    "        answer_part = ans.split(\"####\")[-1].strip()\n",
    "        return _to_number(answer_part)\n",
    "    except (IndexError, ValueError) as e:\n",
    "        raise ValueError(f\"Could not parse GSM8K answer: '{ans}'\") from e\n",
    "\n",
    "\n",
    "def parse_teacher_final_answer(content: str):\n",
    "    try:\n",
    "        for line in content.splitlines():\n",
    "            if line.lower().startswith(\"final answer:\"):\n",
    "                return _to_number(line.split(\":\", 1)[-1].strip())\n",
    "        raise ValueError(\"No 'Final Answer:' line found\")\n",
    "    except (IndexError, ValueError) as e:\n",
    "        raise ValueError(f\"Could not parse teacher final answer: '{content}'\") from e"
   ]
  },
  {
   "cell_type": "code",
   "execution_count": 27,
   "id": "57eb456a",
   "metadata": {},
   "outputs": [],
   "source": [
    "def create_meta_file():\n",
    "    meta = {\n",
    "        \"dataset\": GSM8K_PATH,\n",
    "        \"split\": \"train\",\n",
    "        \"model\": \"deepseek/deepseek-r1-distill-qwen-32b\",\n",
    "        \"system_prompt\": TEACHER_SYSTEM_PROMPT,\n",
    "        \"num_examples\": NUM_EXAMPLES,\n",
    "        \"num_samples_per_example\": NUM_SAMPLES_PER_EXAMPLE,\n",
    "        \"max_concurrency\": MAX_CONCURRENCY,\n",
    "        \"random_seed\": RANDOM_STATE,\n",
    "        \"timestamp\": time.time(),\n",
    "    }\n",
    "\n",
    "    meta_path = TEACHER_COTS_FILE.with_suffix(\".meta.json\")\n",
    "    with meta_path.open(\"w\", encoding=\"utf-8\") as f:\n",
    "        json.dump(meta, f, ensure_ascii=False, indent=2)\n",
    "    logger.info(f\"Meta file created at {meta_path}\")"
   ]
  },
  {
   "cell_type": "code",
   "execution_count": null,
   "id": "2aae54c6",
   "metadata": {},
   "outputs": [],
   "source": [
    "def create_base_record(row_idx: int, q: str, gold_text: str) -> dict:\n",
    "    return {\n",
    "        \"row_index\": int(row_idx),\n",
    "        \"question\": q,\n",
    "        \"gold_answer_text\": gold_text,\n",
    "        \"gold_answer_number\": parse_gsm8k_answer(gold_text),\n",
    "        \"user_prompt\": TEACHER_USER_PROMPT.format(question=q),\n",
    "        \"samples\": [],\n",
    "    }\n",
    "\n",
    "\n",
    "async def generate_sample(row_idx: int, q: str, sample_id: int, sem: asyncio.Semaphore):\n",
    "    async with sem:\n",
    "        try:\n",
    "            start = time.perf_counter()\n",
    "            resp = await get_teacher_response(q, client)\n",
    "            latency_ms = int((time.perf_counter() - start) * 1000)\n",
    "            choice = resp[\"choices\"][0]\n",
    "            content = choice[\"message\"][\"content\"]\n",
    "\n",
    "            sample_record = {\n",
    "                \"sample_id\": int(sample_id),\n",
    "                \"teacher_answer_text\": content,\n",
    "                \"teacher_answer_number\": parse_teacher_final_answer(content),\n",
    "                \"teacher_reasoning_text\": choice[\"message\"].get(\"reasoning\"),\n",
    "                \"finish_reason\": choice.get(\"finish_reason\"),\n",
    "                \"native_finish_reason\": choice.get(\"native_finish_reason\"),\n",
    "                \"provider\": resp.get(\"provider\"),\n",
    "                \"model\": resp.get(\"model\"),\n",
    "                \"created\": resp.get(\"created\"),\n",
    "                \"usage\": resp.get(\"usage\"),\n",
    "                \"request_id\": resp.get(\"id\"),\n",
    "                \"latency_ms\": latency_ms,\n",
    "            }\n",
    "            return sample_record\n",
    "        except Exception as e:\n",
    "            logger.error(\n",
    "                f\"Error generating sample for row {row_idx}, sample {sample_id}: '{e}'\",\n",
    "                exc_info=True,\n",
    "            )\n",
    "            return None\n",
    "\n",
    "\n",
    "async def generate_samples(idx: int, q: str, gold: str, sem: asyncio.Semaphore):\n",
    "    record = create_base_record(idx, q, gold)\n",
    "\n",
    "    tasks = []\n",
    "    for s in range(NUM_SAMPLES_PER_EXAMPLE):\n",
    "        tasks.append(generate_sample(idx, q, s, sem))\n",
    "\n",
    "    samples = await asyncio.gather(*tasks)\n",
    "    record[\"samples\"] = [sample for sample in samples if sample is not None]\n",
    "    return record\n",
    "\n",
    "\n",
    "async def generate_all_samples():\n",
    "    ds = dataset.select(range(min(NUM_EXAMPLES, len(dataset))))\n",
    "    sem = asyncio.Semaphore(MAX_CONCURRENCY)\n",
    "\n",
    "    tasks = []\n",
    "\n",
    "    for idx, row in enumerate(ds):\n",
    "        tasks.append(generate_samples(idx, row[\"question\"], row[\"answer\"], sem))\n",
    "\n",
    "    results = await tqdm.asyncio.tqdm.gather(*tasks)\n",
    "\n",
    "    return results\n",
    "\n",
    "\n",
    "def save_samples_to_file(records: list[dict]):\n",
    "    successful_samples = 0\n",
    "    failed_samples = 0\n",
    "\n",
    "    with TEACHER_COTS_FILE.open(\"w\", encoding=\"utf-8\") as f:\n",
    "        for rec in records:\n",
    "            f.write(json.dumps(rec, ensure_ascii=False) + \"\\n\")\n",
    "            successful_samples += len(rec[\"samples\"])\n",
    "            failed_samples += NUM_SAMPLES_PER_EXAMPLE - len(rec[\"samples\"])\n",
    "\n",
    "    logger.info(f\"Total samples saved: {successful_samples}\")\n",
    "    logger.info(f\"Total samples failed: {failed_samples}\")\n",
    "    return successful_samples, failed_samples"
   ]
  },
  {
   "cell_type": "code",
   "execution_count": null,
   "id": "e69fd9eb",
   "metadata": {},
   "outputs": [
    {
     "name": "stderr",
     "output_type": "stream",
     "text": [
      "100%|██████████| 10/10 [00:24<00:00,  2.44s/it]"
     ]
    },
    {
     "name": "stdout",
     "output_type": "stream",
     "text": [
      "Wrote 30 samples to /home/rabadaba/engineering-thesis/code/data/teacher_cots.jsonl\n"
     ]
    },
    {
     "name": "stderr",
     "output_type": "stream",
     "text": [
      "\n"
     ]
    }
   ],
   "source": [
    "create_meta_file()\n",
    "results = await generate_all_samples()\n",
    "successful, failed = save_samples_to_file(results)\n",
    "\n",
    "print(f\"Wrote {successful} samples to {TEACHER_COTS_FILE}\")\n",
    "if failed > 0:\n",
    "    print(f\"Failed to generate {failed} samples. Check logs for details.\")"
   ]
  },
  {
   "cell_type": "code",
   "execution_count": null,
   "id": "db9b5929",
   "metadata": {},
   "outputs": [],
   "source": [
    "import pandas as pd\n",
    "\n",
    "df = pd.read_json(TEACHER_COTS_FILE, lines=True)"
   ]
  },
  {
   "cell_type": "code",
   "execution_count": 32,
   "id": "d3b8642a",
   "metadata": {},
   "outputs": [
    {
     "data": {
      "text/html": [
       "<div>\n",
       "<style scoped>\n",
       "    .dataframe tbody tr th:only-of-type {\n",
       "        vertical-align: middle;\n",
       "    }\n",
       "\n",
       "    .dataframe tbody tr th {\n",
       "        vertical-align: top;\n",
       "    }\n",
       "\n",
       "    .dataframe thead th {\n",
       "        text-align: right;\n",
       "    }\n",
       "</style>\n",
       "<table border=\"1\" class=\"dataframe\">\n",
       "  <thead>\n",
       "    <tr style=\"text-align: right;\">\n",
       "      <th></th>\n",
       "      <th>row_index</th>\n",
       "      <th>question</th>\n",
       "      <th>gold_answer_text</th>\n",
       "      <th>gold_answer_number</th>\n",
       "      <th>user_prompt</th>\n",
       "      <th>samples</th>\n",
       "    </tr>\n",
       "  </thead>\n",
       "  <tbody>\n",
       "    <tr>\n",
       "      <th>0</th>\n",
       "      <td>0</td>\n",
       "      <td>Natalia sold clips to 48 of her friends in Apr...</td>\n",
       "      <td>Natalia sold 48/2 = &lt;&lt;48/2=24&gt;&gt;24 clips in May...</td>\n",
       "      <td>72</td>\n",
       "      <td>Follow the required format exactly.\\n\\nExample...</td>\n",
       "      <td>[{'sample_id': 0, 'teacher_answer_text': 'Reas...</td>\n",
       "    </tr>\n",
       "    <tr>\n",
       "      <th>1</th>\n",
       "      <td>1</td>\n",
       "      <td>Weng earns $12 an hour for babysitting. Yester...</td>\n",
       "      <td>Weng earns 12/60 = $&lt;&lt;12/60=0.2&gt;&gt;0.2 per minut...</td>\n",
       "      <td>10</td>\n",
       "      <td>Follow the required format exactly.\\n\\nExample...</td>\n",
       "      <td>[{'sample_id': 0, 'teacher_answer_text': 'Reas...</td>\n",
       "    </tr>\n",
       "    <tr>\n",
       "      <th>2</th>\n",
       "      <td>2</td>\n",
       "      <td>Betty is saving money for a new wallet which c...</td>\n",
       "      <td>In the beginning, Betty has only 100 / 2 = $&lt;&lt;...</td>\n",
       "      <td>5</td>\n",
       "      <td>Follow the required format exactly.\\n\\nExample...</td>\n",
       "      <td>[{'sample_id': 0, 'teacher_answer_text': 'Reas...</td>\n",
       "    </tr>\n",
       "    <tr>\n",
       "      <th>3</th>\n",
       "      <td>3</td>\n",
       "      <td>Julie is reading a 120-page book. Yesterday, s...</td>\n",
       "      <td>Maila read 12 x 2 = &lt;&lt;12*2=24&gt;&gt;24 pages today....</td>\n",
       "      <td>42</td>\n",
       "      <td>Follow the required format exactly.\\n\\nExample...</td>\n",
       "      <td>[{'sample_id': 0, 'teacher_answer_text': 'Reas...</td>\n",
       "    </tr>\n",
       "    <tr>\n",
       "      <th>4</th>\n",
       "      <td>4</td>\n",
       "      <td>James writes a 3-page letter to 2 different fr...</td>\n",
       "      <td>He writes each friend 3*2=&lt;&lt;3*2=6&gt;&gt;6 pages a w...</td>\n",
       "      <td>624</td>\n",
       "      <td>Follow the required format exactly.\\n\\nExample...</td>\n",
       "      <td>[{'sample_id': 0, 'teacher_answer_text': 'Reas...</td>\n",
       "    </tr>\n",
       "    <tr>\n",
       "      <th>5</th>\n",
       "      <td>5</td>\n",
       "      <td>Mark has a garden with flowers. He planted pla...</td>\n",
       "      <td>There are 80/100 * 10 = &lt;&lt;80/100*10=8&gt;&gt;8 more ...</td>\n",
       "      <td>35</td>\n",
       "      <td>Follow the required format exactly.\\n\\nExample...</td>\n",
       "      <td>[{'sample_id': 0, 'teacher_answer_text': 'Reas...</td>\n",
       "    </tr>\n",
       "    <tr>\n",
       "      <th>6</th>\n",
       "      <td>6</td>\n",
       "      <td>Albert is wondering how much pizza he can eat ...</td>\n",
       "      <td>He eats 32 from the largest pizzas because 2 x...</td>\n",
       "      <td>48</td>\n",
       "      <td>Follow the required format exactly.\\n\\nExample...</td>\n",
       "      <td>[{'sample_id': 0, 'teacher_answer_text': 'Reas...</td>\n",
       "    </tr>\n",
       "    <tr>\n",
       "      <th>7</th>\n",
       "      <td>7</td>\n",
       "      <td>Ken created a care package to send to his brot...</td>\n",
       "      <td>To the initial 2 pounds of jelly beans, he add...</td>\n",
       "      <td>16</td>\n",
       "      <td>Follow the required format exactly.\\n\\nExample...</td>\n",
       "      <td>[{'sample_id': 0, 'teacher_answer_text': 'Reas...</td>\n",
       "    </tr>\n",
       "    <tr>\n",
       "      <th>8</th>\n",
       "      <td>8</td>\n",
       "      <td>Alexis is applying for a new job and bought a ...</td>\n",
       "      <td>Let S be the amount Alexis paid for the shoes....</td>\n",
       "      <td>41</td>\n",
       "      <td>Follow the required format exactly.\\n\\nExample...</td>\n",
       "      <td>[{'sample_id': 0, 'teacher_answer_text': 'Reas...</td>\n",
       "    </tr>\n",
       "    <tr>\n",
       "      <th>9</th>\n",
       "      <td>9</td>\n",
       "      <td>Tina makes $18.00 an hour.  If she works more ...</td>\n",
       "      <td>She works 8 hours a day for $18 per hour so sh...</td>\n",
       "      <td>990</td>\n",
       "      <td>Follow the required format exactly.\\n\\nExample...</td>\n",
       "      <td>[{'sample_id': 0, 'teacher_answer_text': 'Reas...</td>\n",
       "    </tr>\n",
       "  </tbody>\n",
       "</table>\n",
       "</div>"
      ],
      "text/plain": [
       "   row_index                                           question  \\\n",
       "0          0  Natalia sold clips to 48 of her friends in Apr...   \n",
       "1          1  Weng earns $12 an hour for babysitting. Yester...   \n",
       "2          2  Betty is saving money for a new wallet which c...   \n",
       "3          3  Julie is reading a 120-page book. Yesterday, s...   \n",
       "4          4  James writes a 3-page letter to 2 different fr...   \n",
       "5          5  Mark has a garden with flowers. He planted pla...   \n",
       "6          6  Albert is wondering how much pizza he can eat ...   \n",
       "7          7  Ken created a care package to send to his brot...   \n",
       "8          8  Alexis is applying for a new job and bought a ...   \n",
       "9          9  Tina makes $18.00 an hour.  If she works more ...   \n",
       "\n",
       "                                    gold_answer_text  gold_answer_number  \\\n",
       "0  Natalia sold 48/2 = <<48/2=24>>24 clips in May...                  72   \n",
       "1  Weng earns 12/60 = $<<12/60=0.2>>0.2 per minut...                  10   \n",
       "2  In the beginning, Betty has only 100 / 2 = $<<...                   5   \n",
       "3  Maila read 12 x 2 = <<12*2=24>>24 pages today....                  42   \n",
       "4  He writes each friend 3*2=<<3*2=6>>6 pages a w...                 624   \n",
       "5  There are 80/100 * 10 = <<80/100*10=8>>8 more ...                  35   \n",
       "6  He eats 32 from the largest pizzas because 2 x...                  48   \n",
       "7  To the initial 2 pounds of jelly beans, he add...                  16   \n",
       "8  Let S be the amount Alexis paid for the shoes....                  41   \n",
       "9  She works 8 hours a day for $18 per hour so sh...                 990   \n",
       "\n",
       "                                         user_prompt  \\\n",
       "0  Follow the required format exactly.\\n\\nExample...   \n",
       "1  Follow the required format exactly.\\n\\nExample...   \n",
       "2  Follow the required format exactly.\\n\\nExample...   \n",
       "3  Follow the required format exactly.\\n\\nExample...   \n",
       "4  Follow the required format exactly.\\n\\nExample...   \n",
       "5  Follow the required format exactly.\\n\\nExample...   \n",
       "6  Follow the required format exactly.\\n\\nExample...   \n",
       "7  Follow the required format exactly.\\n\\nExample...   \n",
       "8  Follow the required format exactly.\\n\\nExample...   \n",
       "9  Follow the required format exactly.\\n\\nExample...   \n",
       "\n",
       "                                             samples  \n",
       "0  [{'sample_id': 0, 'teacher_answer_text': 'Reas...  \n",
       "1  [{'sample_id': 0, 'teacher_answer_text': 'Reas...  \n",
       "2  [{'sample_id': 0, 'teacher_answer_text': 'Reas...  \n",
       "3  [{'sample_id': 0, 'teacher_answer_text': 'Reas...  \n",
       "4  [{'sample_id': 0, 'teacher_answer_text': 'Reas...  \n",
       "5  [{'sample_id': 0, 'teacher_answer_text': 'Reas...  \n",
       "6  [{'sample_id': 0, 'teacher_answer_text': 'Reas...  \n",
       "7  [{'sample_id': 0, 'teacher_answer_text': 'Reas...  \n",
       "8  [{'sample_id': 0, 'teacher_answer_text': 'Reas...  \n",
       "9  [{'sample_id': 0, 'teacher_answer_text': 'Reas...  "
      ]
     },
     "execution_count": 32,
     "metadata": {},
     "output_type": "execute_result"
    }
   ],
   "source": [
    "df"
   ]
  },
  {
   "cell_type": "code",
   "execution_count": null,
   "id": "bcfd7813",
   "metadata": {},
   "outputs": [],
   "source": []
  }
 ],
 "metadata": {
  "kernelspec": {
   "display_name": "engineering-thesis (3.11.12)",
   "language": "python",
   "name": "python3"
  },
  "language_info": {
   "codemirror_mode": {
    "name": "ipython",
    "version": 3
   },
   "file_extension": ".py",
   "mimetype": "text/x-python",
   "name": "python",
   "nbconvert_exporter": "python",
   "pygments_lexer": "ipython3",
   "version": "3.11.12"
  }
 },
 "nbformat": 4,
 "nbformat_minor": 5
}
